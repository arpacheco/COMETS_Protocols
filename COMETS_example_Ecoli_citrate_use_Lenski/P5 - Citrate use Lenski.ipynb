{
 "cells": [
  {
   "cell_type": "markdown",
   "metadata": {},
   "source": [
    "## Studying the evolution citrate utilization in the Long Term Evolution Experiment.\n",
    "\n",
    "After 33,000 generations a large population expansion was observed in the Ara-3 population of the *E. coli* long term evolution experiment (Blount et al 2008).This population expansion is associated with two key mutations that together enable the evolution of strong aerobic citrate utilisation (Cit++ phenotype). The first mutation (occuring roughly 31,000 generations) caused the aerobic expression of the citT transporter, producing a weak citrate growth phenotype (Cit+, Blount et al 2012). A subsequent mutation (occuring roughly 33,000 generations in) caused high-level , constitutive expression of dctA, a proton-driven dicarboxylic acid transporter (Quandt et al 2014). Because these two mutations introduce known reactions into the e.coli metabolic network we can simulate them using COMETS.\n",
    "\n",
    "In this protocol we illustrate how we can simulate the appearance of these two mutations into the *E. coli* population growing under the LTEE conditions (24hr batch culture in DM25). This simulation uses the same models, paramaters and reactions knockouts outlined in Bajic et al 2018."
   ]
  },
  {
   "cell_type": "markdown",
   "metadata": {},
   "source": [
    "First, create the layout and simulate the DM25 medium. "
   ]
  },
  {
   "cell_type": "code",
   "execution_count": 1,
   "metadata": {},
   "outputs": [
    {
     "name": "stdout",
     "output_type": "stream",
     "text": [
      "building empty layout model\n",
      "models will need to be added with layout.add_model()\n",
      "Warning: The added metabolite (glc__D_e) is notable to be taken up by any of the current models\n",
      "Warning: The added metabolite (cit_e) is notable to be taken up by any of the current models\n"
     ]
    }
   ],
   "source": [
    "%matplotlib inline\n",
    "import comets as c\n",
    "import matplotlib as plt\n",
    "import cobra \n",
    "import pandas as pd\n",
    "import numpy as np\n",
    "\n",
    "layout = c.layout()\n",
    "\n",
    "#Set up media to be DM25\n",
    "layout.add_typical_trace_metabolites()\n",
    "layout.set_specific_metabolite('glc__D_e', 0.000139)\n",
    "layout.set_specific_metabolite('cit_e', 0.0017)"
   ]
  },
  {
   "cell_type": "markdown",
   "metadata": {},
   "source": [
    "Now load the model and build the mutants. To show the compatibility with the COBRApy toolbox, we will load the model and perform the mutations using COBRA, and then pass these models as input to build COMETS models. \n",
    "\n",
    "Unlike the LTEE ancestral strain REL606 (and *E. coli* in general), which possess the necessary genes for citrate utilization but do not express them in aerobic conditions, iJO1366 is able utilize both citrate and succinate as these reactions are unbounded by default. Thus, the ancestral phenotype can be recreated by knocking out three reactions CITt7pp (citT), SUCCt2_2pp (dctA) and SUCCt2_3pp (dcuA or dcuB). "
   ]
  },
  {
   "cell_type": "code",
   "execution_count": 2,
   "metadata": {},
   "outputs": [],
   "source": [
    "# Load the original E. coli model \n",
    "mod  = cobra.io.read_sbml_model('test_models/iJO1366.xml')\n",
    "\n",
    "# Set exchange reaction lower bounds to -1000 to allow them being controlled by COMETS \n",
    "for i in mod.reactions:\n",
    "    if 'EX_' in i.id:\n",
    "        i.lower_bound =-1000.0\n",
    "        \n",
    "#now create the mutants \n",
    "mod.reactions.SUCCt2_3pp.upper_bound=0.0\n",
    "CitTdctA = mod.copy()\n",
    "mod.reactions.SUCCt2_2pp.upper_bound =0.0\n",
    "CitT = mod.copy()\n",
    "mod.reactions.CITt7pp.upper_bound =0.0\n",
    "WT = mod.copy()\n",
    "WT.id= 'Ancestor'\n",
    "CitT.id = 'Cit+'\n",
    "CitTdctA.id = 'Cit++'\n",
    "        \n",
    "# Generate comets models and set their initial population size\n",
    "p = c.model(WT)\n",
    "p.initial_pop = [0, 0, 3.9e-11] # We'll introduce genotypes 100 cells at a time to avoid the risk of them going extinct through drift\n",
    "p2 = c.model(CitT)\n",
    "p2.initial_pop = [0, 0, 0] # not present at start\n",
    "p3 = c.model(CitTdctA)\n",
    "p3.initial_pop = [0, 0, 0] # not present at start\n",
    "\n",
    "# Add the models to the simulation \n",
    "layout.add_model(p)\n",
    "layout.add_model(p2)\n",
    "layout.add_model(p3)"
   ]
  },
  {
   "cell_type": "markdown",
   "metadata": {},
   "source": [
    "Set the parameters for the simulation. We use 1 hr as the COMETS timestep to speed up the simulation. Shortening this to the more commonly used 0.1 hr does not substantially affect the final result, but it does significantly increase the time it takes this simulation to run."
   ]
  },
  {
   "cell_type": "code",
   "execution_count": 3,
   "metadata": {},
   "outputs": [],
   "source": [
    "### Setting paramaters for the simulation ###\n",
    "b_params = c.params()\n",
    "b_params.all_params['timeStep'] = 1.0 \n",
    "b_params.all_params['deathRate'] = 0.01\n",
    "b_params.all_params['batchDilution'] =True\n",
    "b_params.all_params['dilTime'] =24\n",
    "b_params.all_params['dilFactor'] =100\n",
    "b_params.all_params['cellSize']= 3.9e-13 #Size of a single cell\n",
    "b_params.all_params['minSpaceBiomass'] = 3.8e-13"
   ]
  },
  {
   "cell_type": "markdown",
   "metadata": {},
   "source": [
    "Perform the simulations. We will divide our simulation in three actual COMETS runs. We will start the simulation at generation 25000 and run for around 6000 generations. At roughly generation 31,000, we introduce the CitT genotype and run for around 2000 Generations. Finally, at roughly Generation 33,000 we introduce the CitTdctA Genotype and run for a final 6000 generations. For each run, we will input the final biomass composition of the previous run. biomass of each store the biomass data in a separate dataframe that we will then join together for analysis. "
   ]
  },
  {
   "cell_type": "code",
   "execution_count": null,
   "metadata": {
    "scrolled": true
   },
   "outputs": [
    {
     "name": "stdout",
     "output_type": "stream",
     "text": [
      "\n",
      "Running COMETS simulation ...\n"
     ]
    }
   ],
   "source": [
    "cycles_per_day = 24.0/b_params.all_params['timeStep']\n",
    "\n",
    "# We'll start at Generation 25,000.  and run for around 6000 generations\n",
    "batch_test = c.comets(layout, b_params)\n",
    "batch_test.parameters.all_params['maxCycles'] = int(900*cycles_per_day)\n",
    "batch_test.run()\n",
    "phase_1 = pd.DataFrame({'Ancestor' : batch_test.total_biomass.Ancestor/(3.9e-13),\n",
    "                        'CitT' : batch_test.total_biomass['Cit+']/(3.9e-13),\n",
    "                        'CitTdctA' : batch_test.total_biomass['Cit++']/(3.9e-13),\n",
    "                        'Generations' : 6.67*(batch_test.total_biomass.cycle+1)/cycles_per_day + 25000})\n",
    "\n",
    "# At roughly Generation 31,000 we introduce the CitT genotype and run for around 2000 Generations\n",
    "batch_test.layout.models[0].initial_pop = [0, 0, float(batch_test.total_biomass.Ancestor.tail(1))]\n",
    "batch_test.layout.models[1].initial_pop = [0, 0, 3.9e-11]\n",
    "batch_test.layout.build_initial_pop()\n",
    "batch_test.parameters.all_params['maxCycles'] = int(300*cycles_per_day)\n",
    "batch_test.run()\n",
    "phase_2 = pd.DataFrame({'Ancestor' : batch_test.total_biomass.Ancestor/(3.9e-13),\n",
    "                        'CitT' : batch_test.total_biomass['Cit+']/(3.9e-13),\n",
    "                        'CitTdctA' : batch_test.total_biomass['Cit++']/(3.9e-13),\n",
    "                        'Generations' : 6.67*(batch_test.total_biomass.cycle)/cycles_per_day + max(phase_1.Generations)})\n",
    "\n",
    "# At roughly Generation 33,000 we introduce the CitTdctA Genotype and run for a final 6000 generationr \n",
    "batch_test.layout.models[0].initial_pop = [0, 0, float(batch_test.total_biomass.Ancestor.tail(1))]\n",
    "batch_test.layout.models[1].initial_pop = [0, 0, float(batch_test.total_biomass['Cit+'].tail(1))]\n",
    "batch_test.layout.models[2].initial_pop = [0, 0, 3.9e-11]\n",
    "batch_test.layout.build_initial_pop()\n",
    "batch_test.parameters.all_params['maxCycles'] = int(900*cycles_per_day)\n",
    "batch_test.run()\n",
    "phase_3 = pd.DataFrame({'Ancestor' : batch_test.total_biomass.Ancestor/(3.9e-13),\n",
    "                        'CitT' : batch_test.total_biomass['Cit+']/(3.9e-13),\n",
    "                        'CitTdctA' : batch_test.total_biomass['Cit++']/(3.9e-13),\n",
    "                        'Generations' : 6.67*(batch_test.total_biomass.cycle)/cycles_per_day + max(phase_2.Generations) })"
   ]
  },
  {
   "cell_type": "markdown",
   "metadata": {},
   "source": [
    "Group all the results from the three runs together and plot the stationary phase population size through time. "
   ]
  },
  {
   "cell_type": "code",
   "execution_count": null,
   "metadata": {},
   "outputs": [],
   "source": [
    "#Remove the final timepoint from each phase\n",
    "phase_1.drop(phase_1.tail(1).index, inplace=True)\n",
    "phase_2.drop(phase_2.tail(1).index, inplace=True)\n",
    "phase_3.drop(phase_3.tail(1).index, inplace=True)\n",
    "\n",
    "final_df = pd.concat([phase_1,phase_2,phase_3])\n",
    "final_df.reindex()\n",
    "final_df = final_df[np.round((final_df.Generations - 25000) % 6.67,3) == 6.67]\n",
    "final_df.plot(x='Generations', ylog=True)"
   ]
  }
 ],
 "metadata": {
  "kernelspec": {
   "display_name": "Python 3",
   "language": "python",
   "name": "python3"
  },
  "language_info": {
   "codemirror_mode": {
    "name": "ipython",
    "version": 3
   },
   "file_extension": ".py",
   "mimetype": "text/x-python",
   "name": "python",
   "nbconvert_exporter": "python",
   "pygments_lexer": "ipython3",
   "version": "3.5.2"
  }
 },
 "nbformat": 4,
 "nbformat_minor": 2
}
