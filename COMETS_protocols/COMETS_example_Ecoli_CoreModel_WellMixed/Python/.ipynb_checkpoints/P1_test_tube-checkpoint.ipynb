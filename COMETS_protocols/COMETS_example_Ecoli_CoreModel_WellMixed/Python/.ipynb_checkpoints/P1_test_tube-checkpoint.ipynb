{
 "cells": [
  {
   "cell_type": "markdown",
   "metadata": {},
   "source": [
    "## Growth in a test tube\n",
    "This simple example illustrates the basic workflow of COMETS, including how to build the simulation layout, to specify parameters, load the model and plot the data once the simulation is finished.\n",
    "\n",
    "The core of the COMETS methodology is the Dynamic Flux Balance Analysis algorithm (Madahevan et al 2002). One of the first successful simulations of the time dynamics of bacterial metabolism was the classical study of *Escherichia coli* batch culture by Varma and Palsson (1994). Here, we reproduce one of the results in that study, the anaerobic fermentation in minimal media with glucose as the only carbon source.\n",
    "\n",
    "We will simulate a test tube by setting a well-mixed virtual container with $1cm3$ of media, which we will inoculate with $5\\times10^{−6}$ grams of E. coli biomass. We will set the initial composition of the substrate to 11mM of glucose and unlimited amounts of ammonia and phosphate. For the nutrient uptake, we will use standard Michaelis-Menten kinetics, using the experimentally measured Monod parameter for anaerobic uptake of glucose by E. coli.\n",
    "\n",
    "For this simple example, we use the rudimentary \"core\" model of E. coli (Orth et al. 2009), which can be downloaded from http://bigg.ucsd.edu/models/e_coli_core or loaded, as we do here, using a function built in CobraPy. This model represents an E. coli metabolism simplified to its core functions (glycolysis, tricarboxylic cycle, pentose phosphate shunt, etc).\n",
    "\n",
    "\n",
    "### Loading the COMETS Python Toolbox\n",
    "\n",
    "We first import the COMETS Python toolbox, which will also load all the dependencies, such as CobraPy or pandas."
   ]
  },
  {
   "cell_type": "code",
   "execution_count": 1,
   "metadata": {},
   "outputs": [],
   "source": [
    "import sys\n",
    "sys.path.append(\"/home/djordje/Dropbox/projects/COMETS-Python-Toolbox/\")\n",
    "import comets as c\n",
    "import cobra.test\n",
    "import matplotlib.pyplot as plt"
   ]
  },
  {
   "cell_type": "markdown",
   "metadata": {},
   "source": [
    "### Creating a test tube\n",
    "\n",
    "We are now ready to create a \"layout\" for our simulation. By instantiating the class layout without arguments, we will create the default simulation layout, represents an empty, well mixed space (called \"cell\") with volume 1cm^3. We can then modify this layout according to our needs, in this case adding the media composition in the desired concentration."
   ]
  },
  {
   "cell_type": "code",
   "execution_count": 2,
   "metadata": {},
   "outputs": [
    {
     "name": "stdout",
     "output_type": "stream",
     "text": [
      "building empty layout model\n",
      "models will need to be added with layout.add_model()\n",
      "Warning: The added metabolite (glc__D_e) is notable to be taken up by any of the current models\n",
      "Warning: The added metabolite (o2_e) is notable to be taken up by any of the current models\n",
      "Warning: The added metabolite (nh4_e) is notable to be taken up by any of the current models\n",
      "Warning: The added metabolite (pi_e) is notable to be taken up by any of the current models\n",
      "Warning: The added metabolite (h2o_e) is notable to be taken up by any of the current models\n",
      "Warning: The added metabolite (h_e) is notable to be taken up by any of the current models\n"
     ]
    }
   ],
   "source": [
    "# Create empty 1x1 layout\n",
    "test_tube = c.layout()\n",
    "\n",
    "# Add 11mM glucose and remove o2\n",
    "test_tube.set_specific_metabolite('glc__D_e', 0.011)\n",
    "test_tube.set_specific_metabolite('o2_e', 0)\n",
    "\n",
    "# Add the rest of nutrients unlimited (ammonia, phosphate, water and protons)\n",
    "test_tube.set_specific_metabolite('nh4_e',1000);\n",
    "test_tube.set_specific_metabolite('pi_e',1000);\n",
    "test_tube.set_specific_metabolite('h2o_e',1000);\n",
    "test_tube.set_specific_metabolite('h_e',1000);"
   ]
  },
  {
   "cell_type": "markdown",
   "metadata": {},
   "source": [
    "### Loading a model\n",
    "\n",
    "Next, we have to load the model and add it to the layout (or \"inoculate it in our test tube\").\n",
    "\n",
    "We will instantiate the comets model class using a loaded CobraPy model as input.\n",
    "\n",
    "Note that we remove the bounds on glucose import, which will be set dynamically by COMETS during the simulation according to the dynamically changing external glucose concentration. We will set the initial biomass of our model at $10^{-6}$ grams."
   ]
  },
  {
   "cell_type": "code",
   "execution_count": 3,
   "metadata": {},
   "outputs": [
    {
     "name": "stdout",
     "output_type": "stream",
     "text": [
      "Using license file /home/djordje/gurobi.lic\n",
      "Academic license - for non-commercial use only\n"
     ]
    }
   ],
   "source": [
    "# create the model using CobraPy functionality\n",
    "e_coli_cobra = cobra.test.create_test_model('textbook')\n",
    "\n",
    "# use the loaded model to build a comets model\n",
    "e_coli = c.model(e_coli_cobra)\n",
    "\n",
    "# remove the bounds from glucose import (will be set dynamically by COMETS)\n",
    "e_coli.change_bounds('EX_glc__D_e', -1000, 1000)\n",
    "\n",
    "# set the model's initial biomass\n",
    "e_coli.initial_pop = [0, 0, 5e-6]\n",
    "\n",
    "# add it to the test_tube\n",
    "test_tube.add_model(e_coli)"
   ]
  },
  {
   "cell_type": "markdown",
   "metadata": {},
   "source": [
    "### Setting the simulation parameters\n",
    "\n",
    "We next instantiate the params class, which generates a set of parameters for the COMETS simulation with the [TODO LINK TO DEF VALS] default values for all of them. All of the parameters are contained in the all_params field which is a Python dict object, making it easy to change the value of the desired parameters."
   ]
  },
  {
   "cell_type": "code",
   "execution_count": 4,
   "metadata": {},
   "outputs": [],
   "source": [
    "# Set the parameters that are different from the default\n",
    "sim_params = c.params()"
   ]
  },
  {
   "cell_type": "code",
   "execution_count": null,
   "metadata": {},
   "outputs": [],
   "source": []
  },
  {
   "cell_type": "code",
   "execution_count": 4,
   "metadata": {},
   "outputs": [],
   "source": [
    "sim_params.all_params['defaultVmax'] = 18.5\n",
    "sim_params.all_params['defaultKm'] = 0.000015\n",
    "sim_params.all_params['maxCycles'] = 1000\n",
    "sim_params.all_params['timeStep'] = 0.01\n",
    "sim_params.all_params['spaceWidth'] = 1\n",
    "sim_params.all_params['maxSpaceBiomass'] = 10\n",
    "sim_params.all_params['minSpaceBiomass'] = 1e-11\n",
    "sim_params.all_params['writeMediaLog'] = True"
   ]
  },
  {
   "cell_type": "markdown",
   "metadata": {},
   "source": [
    "### Running the simulation\n",
    "\n",
    "With all set up, we can now instantiate the comets class by passing the layout (containing the model) and the params objects we just created."
   ]
  },
  {
   "cell_type": "code",
   "execution_count": 5,
   "metadata": {},
   "outputs": [
    {
     "name": "stdout",
     "output_type": "stream",
     "text": [
      "Warning: java class libraries cannot be found\n",
      "These are the expected locations for dependencies:\n",
      "Dependency \t\t\t expected path\n",
      "__________ \t\t\t _____________\n",
      "junit\t\t\t/home/djordje/Dropbox/COMETS_RUN/lib/junit/junit-4.12.jar\n",
      "hamcrest\t\t\t/home/djordje/Dropbox/COMETS_RUN/lib/junit/hamcrest-core-1.3.jar\n",
      "jogl_all\t\t\t/home/djordje/Dropbox/COMETS_RUN/lib/jogl/jogamp-all-platforms/jar/jogl-all.jar\n",
      "gluegen_rt\t\t\t/home/djordje/Dropbox/COMETS_RUN/lib/jogl/jogamp-all-platforms/jar/gluegen-rt.jar\n",
      "gluegen\t\t\t/home/djordje/Dropbox/COMETS_RUN/lib/jogl/jogamp-all-platforms/jar/gluegen.jar\n",
      "gluegen_rt_natives\t\t\t/home/djordje/Dropbox/COMETS_RUN/lib/jogl/jogamp-all-platforms/jar/gluegen-rt-natives-linux-amd64.jar\n",
      "jogl_all_natives\t\t\t/home/djordje/Dropbox/COMETS_RUN/lib/jogl/jogamp-all-platforms/jar/jogl-all-natives-linux-amd64.jar\n",
      "jmatio\t\t\t/home/djordje/Dropbox/COMETS_RUN/lib/JMatIO/lib/jamtio.jar\n",
      "jmat\t\t\t/home/djordje/Dropbox/COMETS_RUN/lib/JMatIO/JMatIO-041212/lib/jmatio.jar\n",
      "concurrent\t\t\t/home/djordje/Dropbox/COMETS_RUN/lib/colt/lib/concurrent.jar\n",
      "colt\t\t\t/home/djordje/Dropbox/COMETS_RUN/lib/colt/lib/colt.jar\n",
      "lang3\t\t\t/home/djordje/Dropbox/COMETS_RUN/lib/commons-lang3-3.7/commons-lang3-3.7.jar\n",
      "math3\t\t\t/home/djordje/Dropbox/COMETS_RUN/lib/commons-math3-3.6.1/commons-math3-3.6.1.jar\n",
      "\n",
      "  You have two options to fix this problem:\n",
      "1.  set each class path correctly by doing:\n",
      "    comets.set_classpath(libraryname, path)\n",
      "    e.g.   comets.set_classpath('hamcrest', '/home/chaco001/comets/junit/hamcrest-core-1.3.jar')\n",
      "\n",
      "    note that versions dont always have to exactly match, but you're on your own if they don't\n",
      "\n",
      "2.  fully define the classpath yourself by overwriting comets.JAVA_CLASSPATH\n",
      "       look at the current comets.JAVA_CLASSPATH to see how this should look.\n"
     ]
    }
   ],
   "source": [
    "experiment = c.comets(test_tube, sim_params)\n",
    "experiment.JAVA_CLASSPATH = '/home/djordje/Dropbox/COMETS_RUN/lib/jmatio.jar:/home/djordje/Dropbox/COMETS_RUN/lib/jdistlib-0.4.5-bin.jar:/home/djordje/Dropbox/COMETS_RUN/lib/commons-math3-3.6.1.jar:/home/djordje/Dropbox/COMETS_RUN/lib/commons-lang3-3.9.jar:/home/djordje/Dropbox/COMETS_RUN/lib/colt.jar:/home/djordje/Dropbox/COMETS_RUN/lib/concurrent.jar:/home/djordje/Dropbox/COMETS_RUN/bin/comets_2.9.3.jar:/opt/gurobi901/linux64/lib/gurobi.jar'"
   ]
  },
  {
   "cell_type": "markdown",
   "metadata": {},
   "source": [
    "Finally, we can run the simulation as:"
   ]
  },
  {
   "cell_type": "code",
   "execution_count": 9,
   "metadata": {},
   "outputs": [
    {
     "name": "stdout",
     "output_type": "stream",
     "text": [
      "\n",
      "Running COMETS simulation ...\n",
      "Done!\n"
     ]
    }
   ],
   "source": [
    "experiment.run()"
   ]
  },
  {
   "cell_type": "markdown",
   "metadata": {},
   "source": [
    "### Analyzing the results\n",
    "\n",
    "The results of our simulation are stored in several pandas data frames contained in the comets object that we just simulated. The growth of the simulated model can be seen by plotting the total_biomass field."
   ]
  },
  {
   "cell_type": "code",
   "execution_count": 10,
   "metadata": {},
   "outputs": [
    {
     "data": {
      "text/plain": [
       "Text(0,0.5,'Biomass (gr.)')"
      ]
     },
     "execution_count": 10,
     "metadata": {},
     "output_type": "execute_result"
    },
    {
     "data": {
      "image/png": "[encoded data removed]",
      "text/plain": [
       "<matplotlib.figure.Figure at 0x7f16663c38d0>"
      ]
     },
     "metadata": {},
     "output_type": "display_data"
    }
   ],
   "source": [
    "ax = experiment.total_biomass.plot(x = 'cycle')\n",
    "ax.set_ylabel(\"Biomass (gr.)\")"
   ]
  },
  {
   "cell_type": "markdown",
   "metadata": {},
   "source": [
    "Similarly, we can plot composition of the media. In this case, we will limit the plot to those components that are not added to the layout in unlimited amounts (“static” compounds, e.g. ammonia, phosphate, water, etc in this simulation). In this case, we do this by limiting the plot to compounds with concentration lower than 900mM."
   ]
  },
  {
   "cell_type": "code",
   "execution_count": null,
   "metadata": {},
   "outputs": [],
   "source": [
    "media = experiment.media.copy()\n",
    "media = media[media.conc_mmol<900]\n",
    "\n",
    "fig, ax = plt.subplots()\n",
    "media.groupby('metabolite').plot(x='cycle', ax =ax, y='conc_mmol')\n",
    "ax.legend(('acetate','ethanol', 'formate', 'glucose'))\n",
    "ax.set_ylabel(\"Concentration (mmol)\")"
   ]
  }
 ],
 "metadata": {
  "kernelspec": {
   "display_name": "Python 3",
   "language": "python",
   "name": "python3"
  },
  "language_info": {
   "codemirror_mode": {
    "name": "ipython",
    "version": 3
   },
   "file_extension": ".py",
   "mimetype": "text/x-python",
   "name": "python",
   "nbconvert_exporter": "python",
   "pygments_lexer": "ipython3",
   "version": "3.6.9"
  }
 },
 "nbformat": 4,
 "nbformat_minor": 2
}
