{
 "cells": [
  {
   "cell_type": "markdown",
   "metadata": {},
   "source": [
    "**Modeling growth and propagation of bacterial colonies on flat surfaces: branching colony**\n",
    "\n",
    "This is the exact same as the circular colony protocol notebook, except that a few parameters in the COMETS model have been changed to cause the colony to branch."
   ]
  },
  {
   "cell_type": "code",
   "execution_count": 1,
   "metadata": {},
   "outputs": [],
   "source": [
    "import cobra\n",
    "import cobra.test # for the ijo1366 model\n",
    "import sys\n",
    "import numpy as np\n",
    "sys.path.append(\"/home/jeremy/Dropbox/work_related/harcombe_lab/segre/cometspy\")\n",
    "import cometspy as c"
   ]
  },
  {
   "cell_type": "markdown",
   "metadata": {},
   "source": [
    "First, let's make a \"toy\" model, using functionality of cobrapy. It directly converts extracellular carbon to biomass. "
   ]
  },
  {
   "cell_type": "code",
   "execution_count": 2,
   "metadata": {},
   "outputs": [],
   "source": [
    "carbon = cobra.Metabolite(\"carbon\",\n",
    "                           compartment = \"e\")\n",
    "carbon_exch = cobra.Reaction(\"Carbon_exch\",\n",
    "                            lower_bound = -1.,\n",
    "                            upper_bound = 1000.)\n",
    "carbon_exch.add_metabolites({carbon: -1.})\n",
    "Biomass = cobra.Reaction(\"Biomass\",\n",
    "                        lower_bound = 0.,\n",
    "                        upper_bound = 1000.)\n",
    "Biomass.add_metabolites({carbon: -1.})\n",
    "toy = cobra.Model(\"toy\")\n",
    "toy.add_reactions([carbon_exch, Biomass])\n",
    "toy.objective = \"Biomass\"\n",
    "toy.repair()"
   ]
  },
  {
   "cell_type": "markdown",
   "metadata": {},
   "source": [
    "We can test that the model runs by doing FBA in cobrapy. It should generate as much biomass as the lower bound on carbon_exch."
   ]
  },
  {
   "cell_type": "code",
   "execution_count": 3,
   "metadata": {
    "scrolled": true
   },
   "outputs": [
    {
     "name": "stdout",
     "output_type": "stream",
     "text": [
      "{'Carbon_exch': 1.0}\n",
      "1.0\n"
     ]
    }
   ],
   "source": [
    "print(toy.medium)\n",
    "print(toy.optimize().objective_value)"
   ]
  },
  {
   "cell_type": "markdown",
   "metadata": {},
   "source": [
    "We will now convert this into a COMETS model, set its initial biomass, and set the first set of convection parameters. These are the parameters needed to obtain a branching colony with this toy model. Note that the timestep has to be set very low for this form of biomass spread."
   ]
  },
  {
   "cell_type": "code",
   "execution_count": 4,
   "metadata": {},
   "outputs": [
    {
     "name": "stdout",
     "output_type": "stream",
     "text": [
      "Note: for convection parameters to function,\n",
      "params.all_params['biomassMotionStyle'] = 'Convection 2D'\n",
      "must also be set\n"
     ]
    }
   ],
   "source": [
    "grid_size = 30\n",
    "\n",
    "toy_comets = c.model(toy)\n",
    "toy_comets.initial_pop = [int(grid_size / 2),int(grid_size / 2),1.0]\n",
    "toy_comets.open_exchanges()\n",
    "toy_comets.add_convection_parameters(packedDensity = 1.2,\n",
    "                                    elasticModulus = 5.e-3,\n",
    "                                    frictionConstant = 1.0,\n",
    "                                    convDiffConstant = 0.0)\n",
    "toy_comets.add_noise_variance_parameter(20.)"
   ]
  },
  {
   "cell_type": "markdown",
   "metadata": {},
   "source": [
    "We make sure that the COMETS model does not consider the biomass reaction an exchange."
   ]
  },
  {
   "cell_type": "code",
   "execution_count": 5,
   "metadata": {},
   "outputs": [],
   "source": [
    "toy_comets.reactions.loc[toy_comets.reactions.REACTION_NAMES == \"Biomass\",\"EXCH\"] = False\n",
    "toy_comets.reactions.loc[toy_comets.reactions.REACTION_NAMES == \"Biomass\",\"EXCH_IND\"] = 0\n",
    "toy_comets.reactions.loc[toy_comets.reactions.REACTION_NAMES == \"Biomass\", \"LB\"] = 0"
   ]
  },
  {
   "cell_type": "markdown",
   "metadata": {},
   "source": [
    "This simulation's layout will be of a single, centered colony on a 100x100 grid. carbon will be spread homogenously."
   ]
  },
  {
   "cell_type": "code",
   "execution_count": 6,
   "metadata": {},
   "outputs": [],
   "source": [
    "ly = c.layout([toy_comets])\n",
    "ly.grid = [grid_size, grid_size]\n",
    "ly.set_specific_metabolite(\"carbon\", 1.)"
   ]
  },
  {
   "cell_type": "markdown",
   "metadata": {},
   "source": [
    "The main parameter we need to set is biomassmotionstyle, which must be set to \"Convection 2D\".  Then, to capture the spatial information, we'll also log biomass (instead of just total biomass). Finally, we'll also adjust a handful of other parameters. These are stored in the dictionary all_params."
   ]
  },
  {
   "cell_type": "code",
   "execution_count": 7,
   "metadata": {},
   "outputs": [],
   "source": [
    "p = c.params()\n",
    "\n",
    "p.all_params[\"biomassMotionStyle\"] = \"Convection 2D\"\n",
    "p.all_params[\"writeBiomassLog\"] = True\n",
    "p.all_params[\"BiomassLogRate\"] = 500\n",
    "p.all_params[\"maxCycles\"] = 20000\n",
    "p.all_params[\"timeStep\"] = 0.00025\n",
    "p.all_params[\"spaceWidth\"] = 1\n",
    "p.all_params[\"maxSpaceBiomass\"] = 10\n",
    "p.all_params[\"minSpaceBiomass\"] = 0.25e-10\n",
    "p.all_params[\"allowCellOverlap\"] = True\n",
    "p.all_params[\"growthDiffRate\"] = 0\n",
    "p.all_params[\"flowDiffRate\"] = 3e-9\n",
    "p.all_params[\"exchangestyle\"] = \"Monod Style\"\n",
    "p.all_params[\"defaultKm\"] = 0.01\n",
    "p.all_params[\"defaultHill\"] = 1\n",
    "p.all_params[\"defaultVmax\"] = 100\n"
   ]
  },
  {
   "cell_type": "markdown",
   "metadata": {},
   "source": [
    "Now we make a simulation object and run it.  This can take awhile."
   ]
  },
  {
   "cell_type": "code",
   "execution_count": 8,
   "metadata": {},
   "outputs": [
    {
     "name": "stdout",
     "output_type": "stream",
     "text": [
      "Warning: java class libraries cannot be found\n",
      "These are the expected locations for dependencies:\n",
      "Dependency \t\t\t expected path\n",
      "__________ \t\t\t _____________\n",
      "gurobi\t\t\t/opt/gurobi900/linux64/gurobi.jar\n",
      "junit\t\t\t/Dropbox/work_related/harcombe_lab/segre/comets/bin/lib/junit/junit-4.12.jar\n",
      "hamcrest\t\t\t/Dropbox/work_related/harcombe_lab/segre/comets/bin/lib/junit/hamcrest-core-1.3.jar\n",
      "jogl_all\t\t\t/Dropbox/work_related/harcombe_lab/segre/comets/bin/lib/jogl/jogamp-all-platforms/jar/jogl-all.jar\n",
      "gluegen_rt\t\t\t/Dropbox/work_related/harcombe_lab/segre/comets/bin/lib/jogl/jogamp-all-platforms/jar/gluegen-rt.jar\n",
      "gluegen\t\t\t/Dropbox/work_related/harcombe_lab/segre/comets/bin/lib/jogl/jogamp-all-platforms/jar/gluegen.jar\n",
      "gluegen_rt_natives\t\t\t/Dropbox/work_related/harcombe_lab/segre/comets/bin/lib/jogl/jogamp-all-platforms/jar/gluegen-rt-natives-linux-amd64.jar\n",
      "jogl_all_natives\t\t\t/Dropbox/work_related/harcombe_lab/segre/comets/bin/lib/jogl/jogamp-all-platforms/jar/jogl-all-natives-linux-amd64.jar\n",
      "jmatio\t\t\t/Dropbox/work_related/harcombe_lab/segre/comets/bin/lib/JMatIO/lib/jamtio.jar\n",
      "jmat\t\t\t/Dropbox/work_related/harcombe_lab/segre/comets/bin/lib/JMatIO/JMatIO-041212/lib/jmatio.jar\n",
      "concurrent\t\t\t/Dropbox/work_related/harcombe_lab/segre/comets/bin/lib/colt/lib/concurrent.jar\n",
      "colt\t\t\t/Dropbox/work_related/harcombe_lab/segre/comets/bin/lib/colt/lib/colt.jar\n",
      "lang3\t\t\t/Dropbox/work_related/harcombe_lab/segre/comets/bin/lib/commons-lang3-3.7/commons-lang3-3.7.jar\n",
      "math3\t\t\t/Dropbox/work_related/harcombe_lab/segre/comets/bin/lib/commons-math3-3.6.1/commons-math3-3.6.1.jar\n",
      "bin\t\t\t/Dropbox/work_related/harcombe_lab/segre/comets/bin/bin/comets_evo.jar\n",
      "\n",
      "  You have two options to fix this problem:\n",
      "1.  set each class path correctly by doing:\n",
      "    comets.set_classpath(libraryname, path)\n",
      "    e.g.   comets.set_classpath('hamcrest', '/home/chaco001/comets/junit/hamcrest-core-1.3.jar')\n",
      "\n",
      "    note that versions dont always have to exactly match, but you're on your own if they don't\n",
      "\n",
      "2.  fully define the classpath yourself by overwriting comets.JAVA_CLASSPATH\n",
      "       look at the current comets.JAVA_CLASSPATH to see how this should look.\n",
      "\n",
      "Running COMETS simulation ...\n",
      "Done!\n"
     ]
    }
   ],
   "source": [
    "sim = c.comets(ly, p)\n",
    "# this should all be removable once the installer is made with dependencies in a predictable location\n",
    "sim.set_classpath(\"concurrent\", \"/opt/colt/lib/concurrent.jar\")\n",
    "sim.set_classpath(\"colt\", \"/opt/colt/lib/colt.jar\")\n",
    "sim.set_classpath(\"lang3\", \"/opt/commons-lang3-3.9/commons-lang3-3.9.jar\")\n",
    "sim.set_classpath(\"jmatio\",\"/opt/jmatio/lib/jmatio.jar\")\n",
    "sim.set_classpath(\"math3\",\"/opt/commons-math3-3.6.1/commons-math3-3.6.1.jar\")\n",
    "sim.set_classpath(\"bin\",\"/home/jeremy/Dropbox/work_related/harcombe_lab/segre/jars/comets_2.10.0.jar\")\n",
    "sim.set_classpath(\"gurobi\",\"/opt/gurobi900/linux64/lib/gurobi.jar\")\n",
    "sim.set_classpath(\"jdistlib\", \"/opt/jdistlib-0.4.5-bin.jar\")\n",
    "\n",
    "sim.run(False) # use the argument delete_files = False to keep all COMETS-generated files\n"
   ]
  },
  {
   "cell_type": "markdown",
   "metadata": {},
   "source": [
    "Now let's plot the results. Note how we specify the axes, otherwise \"cycle\", \"x\", and \"y\" will be assumed to be state variables. \n",
    "\n",
    "What we see is that both species survive, because the LCTStex_KO cross-feeds galactose from the galE_KO, which uses the glucose piece of lactose. The metabolites, as is typical in a chemostat, are in very low concentrations once equilibrium is reached."
   ]
  },
  {
   "cell_type": "code",
   "execution_count": 9,
   "metadata": {
    "scrolled": true
   },
   "outputs": [
    {
     "data": {
      "text/plain": [
       "<matplotlib.image.AxesImage at 0x7f966a6b3630>"
      ]
     },
     "execution_count": 9,
     "metadata": {},
     "output_type": "execute_result"
    },
    {
     "data": {
      "image/png": "[encoded data removed]",
      "text/plain": [
       "<Figure size 432x288 with 1 Axes>"
      ]
     },
     "metadata": {
      "needs_background": "light"
     },
     "output_type": "display_data"
    }
   ],
   "source": [
    "im = sim.get_biomass_image('toy', 1500)\n",
    "from matplotlib import pyplot as plt\n",
    "import matplotlib.colors, matplotlib.cm\n",
    "my_cmap = matplotlib.cm.get_cmap(\"copper\")\n",
    "my_cmap.set_bad((0,0,0))\n",
    "plt.imshow(im, norm = matplotlib.colors.LogNorm(), cmap = my_cmap)\n"
   ]
  },
  {
   "cell_type": "code",
   "execution_count": 12,
   "metadata": {},
   "outputs": [
    {
     "data": {
      "image/png": "[encoded data removed]",
      "text/plain": [
       "<Figure size 432x288 with 1 Axes>"
      ]
     },
     "metadata": {
      "needs_background": "light"
     },
     "output_type": "display_data"
    }
   ],
   "source": [
    "big_image = np.zeros((grid_size * 8, grid_size * 5))\n",
    "im_cycles = np.arange(p.all_params[\"BiomassLogRate\"], p.all_params[\"maxCycles\"] + p.all_params[\"BiomassLogRate\"],\n",
    "                      p.all_params[\"BiomassLogRate\"])\n",
    "for i, cycle in enumerate(im_cycles):\n",
    "    big_image[(grid_size * int(i / 5)):(grid_size + grid_size * int(i / 5)),(grid_size * (i % 5)):(grid_size + grid_size * (i % 5))] = sim.get_biomass_image(\"toy\", cycle)\n",
    "    plt.imshow(big_image, norm = matplotlib.colors.LogNorm(), cmap = my_cmap)"
   ]
  },
  {
   "cell_type": "code",
   "execution_count": null,
   "metadata": {},
   "outputs": [],
   "source": []
  }
 ],
 "metadata": {
  "kernelspec": {
   "display_name": "Python 3",
   "language": "python",
   "name": "python3"
  },
  "language_info": {
   "codemirror_mode": {
    "name": "ipython",
    "version": 3
   },
   "file_extension": ".py",
   "mimetype": "text/x-python",
   "name": "python",
   "nbconvert_exporter": "python",
   "pygments_lexer": "ipython3",
   "version": "3.6.10"
  }
 },
 "nbformat": 4,
 "nbformat_minor": 4
}
