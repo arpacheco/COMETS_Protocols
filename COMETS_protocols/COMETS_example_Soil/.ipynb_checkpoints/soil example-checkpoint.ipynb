{
 "cells": [
  {
   "cell_type": "markdown",
   "metadata": {},
   "source": [
    "**Soil-air interface.**\n",
    "\n",
    "Using the functionality of COMETS, one can design simulations which go beyond in silico corollaries of lab experiments to make predictions for environments mimicking natural ecosystems, which is a necessary step for understanding natural ecology from first principles. In this example, we consider a simulation of a soil environment. We use source-and-sink functions to model how a root provides organic acids to the environment while removing ammonia (Huang et al 2014 Botany). While we restrict the root functionality to a source/sink, one could use functionality demonstrated above, for example extracellular enzymes, to generate feedback loops between microbe-produced metabolites and root exudation. We use fixed metabolite concentrations to mimic the largely unchanging air interface above a root, which generates an oxygen gradient. Additionally, since soil is characterized by strong spatial structure with many impenetrable barriers that localized interactions (Nunan 2017), we place “rock” barriers throughout the simulation area. A more complex simulation could use varying diffusion constants for metabolites, as described in a previous protocol (Virtual Petri Dish). Similarly, we use standard diffusion of biomass, but this could be changed to use pushing force or non-linear diffusion for a potentially increased realism."
   ]
  },
  {
   "cell_type": "code",
   "execution_count": 1,
   "metadata": {},
   "outputs": [],
   "source": [
    "import cobra\n",
    "import cobra.test # for the ijo1366 model\n",
    "import sys\n",
    "import copy\n",
    "import numpy as np\n",
    "import cometspy as c"
   ]
  },
  {
   "cell_type": "markdown",
   "metadata": {},
   "source": [
    "For the strain models, we use three well-curated soil bacteria, Pseudomonas putida (model iJN747), Bacillus subtilis (model iYO844), and Methanosarcina barkeri (model iAF629), which are available in the BIGG database (King et al 2016).\n",
    "\n",
    "Also, upon loading, the biomass functions of these models had positive lower bounds, which we then set to zero. "
   ]
  },
  {
   "cell_type": "code",
   "execution_count": 2,
   "metadata": {},
   "outputs": [],
   "source": [
    "model_dir = \"/home/jeremy/Dropbox/work_related/harcombe_lab/segre/soil_root_eg\" # model location\n",
    "iJN = cobra.io.read_sbml_model(model_dir + '/iJN746.xml')\n",
    "iJN.reactions.get_by_id('BIOMASS_KT_TEMP').lower_bound = 0\n",
    "iJN.reactions.get_by_id('BIOMASS_KT_TEMP').upper_bound = 1000\n",
    "\n",
    "iAF = cobra.io.read_sbml_model(model_dir + '/iAF692.xml')\n",
    "iAF.reactions.get_by_id('BIOMASS_Mb_30').lower_bound = 0\n",
    "iAF.reactions.get_by_id('BIOMASS_Mb_30').upper_bound = 1000\n",
    "\n",
    "iYO = cobra.io.read_sbml_model(model_dir + '/iYO844.xml')\n",
    "iYO.reactions.get_by_id('BIOMASS_BS_10').lower_bound = 0\n",
    "iYO.reactions.get_by_id('BIOMASS_BS_10').upper_bound = 1000"
   ]
  },
  {
   "cell_type": "markdown",
   "metadata": {},
   "source": [
    "Next, we convert these into COMETS models. We also use some helper functions to a) ensure the COMETS model does not think \"sink\" reactions are exchange reactions (as they are unbalanced in Cobra models, and therefore appear similar to exchanges), and b) open all exchange reaction bounds, to make sure that COMETS is in control of the media composition."
   ]
  },
  {
   "cell_type": "code",
   "execution_count": 3,
   "metadata": {},
   "outputs": [],
   "source": [
    "iJN_comets = c.model(iJN)\n",
    "iJN_comets.ensure_sinks_are_not_exchanges()\n",
    "iJN_comets.open_exchanges()\n",
    "\n",
    "iAF_comets = c.model(iAF)\n",
    "iAF_comets.ensure_sinks_are_not_exchanges()\n",
    "iAF_comets.open_exchanges()\n",
    "\n",
    "iYO_comets = c.model(iYO)\n",
    "iYO_comets.ensure_sinks_are_not_exchanges()\n",
    "iYO_comets.open_exchanges()"
   ]
  },
  {
   "cell_type": "markdown",
   "metadata": {},
   "source": [
    "Our simulated world will be a 100x100 box lattice. The left-hand side, where x = 0, will be the root. The top, where y = 0, will be the air. Therefore, the biomass and the rocks will be distributed everywhere else. To ensure that we don't attempt to place biomass where rocks are placed, we first determine the rock locations. Specifically, we will create 70 rocks which are impervious to any biomass or metabolite. These rocks will have an average size of 15 boxes. To pick these locations, we use the helper function COMETS.grow_rocks:"
   ]
  },
  {
   "cell_type": "code",
   "execution_count": 27,
   "metadata": {},
   "outputs": [],
   "source": [
    "grid_size = 50 # 100\n",
    "n_rocks = 70 # 70\n",
    "rock_locs = c.grow_rocks(n = n_rocks, xrange = [1,grid_size],yrange = [1,grid_size],mean_size = int(grid_size / 5))"
   ]
  },
  {
   "cell_type": "markdown",
   "metadata": {},
   "source": [
    "Each species will have biomass seeded at 60 different locations, with no overlap. We will use the helper function pick_random_locations for this, which is useful as it can take in a previously-generated list of tuples of x-y locations as “forbidden” locations, such as the rock locations.\n",
    "\n",
    "First we make a copy of the rock_locs so we don't accidentally alter it, and call this copy forbidden_locs.\n"
   ]
  },
  {
   "cell_type": "code",
   "execution_count": 28,
   "metadata": {},
   "outputs": [],
   "source": [
    "import copy\n",
    "forbidden_locs = copy.deepcopy(rock_locs)"
   ]
  },
  {
   "cell_type": "markdown",
   "metadata": {},
   "source": [
    "Next we pick the random locations for each species, adding these locations to the forbidden locs as we go so as to prevent overlap.\n"
   ]
  },
  {
   "cell_type": "code",
   "execution_count": 29,
   "metadata": {},
   "outputs": [],
   "source": [
    "founders_per_species = 20 # 60\n",
    "iJN_locs = c.pick_random_locations(n = founders_per_species, \n",
    "                                   xrange = [1,grid_size], yrange = [1,grid_size], \n",
    "                                   forbidden_locs = forbidden_locs)\n",
    "forbidden_locs.extend(iJN_locs)\n",
    "iYO_locs = c.pick_random_locations(founders_per_species, [1,grid_size],[1,grid_size], forbidden_locs)\n",
    "forbidden_locs.extend(iYO_locs)\n",
    "iAF_locs = c.pick_random_locations(founders_per_species, [1,grid_size],[1,grid_size], forbidden_locs)\n",
    "forbidden_locs.extend(iAF_locs)"
   ]
  },
  {
   "cell_type": "markdown",
   "metadata": {},
   "source": [
    "If we wish to take a look at what locations were chosen, we can easily make an image with matplotlib:"
   ]
  },
  {
   "cell_type": "code",
   "execution_count": 30,
   "metadata": {},
   "outputs": [
    {
     "data": {
      "text/plain": [
       "<matplotlib.image.AxesImage at 0x7f9665df0c18>"
      ]
     },
     "execution_count": 30,
     "metadata": {},
     "output_type": "execute_result"
    },
    {
     "data": {
      "image/png": "[encoded data removed]",
      "text/plain": [
       "<Figure size 432x288 with 1 Axes>"
      ]
     },
     "metadata": {
      "needs_background": "light"
     },
     "output_type": "display_data"
    }
   ],
   "source": [
    "from matplotlib import pyplot as plt\n",
    "initial_image = np.zeros((grid_size,grid_size,3))\n",
    "for rock in rock_locs:\n",
    "    initial_image[rock[1]-1,rock[0]-1,0:3] = 0.5 \n",
    "for loc in iJN_locs:\n",
    "    initial_image[loc[1]-1,loc[0]-1,0] = 1\n",
    "for loc in iYO_locs:\n",
    "    initial_image[loc[1]-1,loc[0]-1,1] = 1\n",
    "for loc in iAF_locs:\n",
    "    initial_image[loc[1]-1,loc[0]-1,2] = 1\n",
    "plt.imshow(initial_image)"
   ]
  },
  {
   "cell_type": "markdown",
   "metadata": {},
   "source": [
    "Things look good so we continue by making the layout and setting the dimensions. Then, we add the rock barriers to the layout."
   ]
  },
  {
   "cell_type": "code",
   "execution_count": 31,
   "metadata": {},
   "outputs": [
    {
     "name": "stdout",
     "output_type": "stream",
     "text": [
      "building empty layout model\n",
      "models will need to be added with layout.add_model()\n"
     ]
    }
   ],
   "source": [
    "layout = c.layout()\n",
    "layout.grid = [grid_size,grid_size]\n",
    "layout.add_barriers(rock_locs)"
   ]
  },
  {
   "cell_type": "markdown",
   "metadata": {},
   "source": [
    "We set the initial population for each species by using a python list comprehension. Note that locations are properties of the model.\n",
    "\n",
    "After setting initial populations, the models are finished, so we add them to the layout."
   ]
  },
  {
   "cell_type": "code",
   "execution_count": 32,
   "metadata": {},
   "outputs": [],
   "source": [
    "iJN_comets.initial_pop = [[loc[0],loc[1],1e-8] for loc in iJN_locs]\n",
    "iYO_comets.initial_pop = [[loc[0],loc[1],1e-8] for loc in iYO_locs]\n",
    "iAF_comets.initial_pop = [[loc[0],loc[1],1e-8] for loc in iAF_locs]\n",
    "\n",
    "layout.add_model(iJN_comets)\n",
    "layout.add_model(iYO_comets)\n",
    "layout.add_model(iAF_comets)"
   ]
  },
  {
   "cell_type": "markdown",
   "metadata": {},
   "source": [
    "We want some metabolites available initially. These include all the typical trace nutrients needed, so we start with the helper function.\n",
    "\n",
    "After that, however, we want oxygen to mostly diffuse from the air, so we set that value lower. We also add a few other trace metabolites homogeneously throughout the environment that were not added with the helper function."
   ]
  },
  {
   "cell_type": "code",
   "execution_count": 33,
   "metadata": {},
   "outputs": [],
   "source": [
    "layout.add_typical_trace_metabolites()\n",
    "layout.set_specific_metabolite('o2_e',0.00001)\n",
    "layout.set_specific_metabolite('hco3_e',1000)\n",
    "layout.set_specific_metabolite('co2_e',1000)\n",
    "layout.set_specific_metabolite('h2_e',1000)\n",
    "layout.set_specific_metabolite('so3_e',1000)\n",
    "layout.set_specific_metabolite('nh4_e',0.000001)\n",
    "\n",
    "layout.set_specific_metabolite('glc__D_e',0.0000001)\n",
    "layout.set_specific_metabolite('meoh_e',0.00000001)\n",
    "layout.set_specific_metabolite('cys__L_e',0.0000001)\n",
    "layout.set_specific_metabolite('4abz_e',0.0000001)\n",
    "layout.set_specific_metabolite('nac_e',0.00000001)"
   ]
  },
  {
   "cell_type": "markdown",
   "metadata": {},
   "source": [
    "To make the air layer, we set static media, which keep that metabolite at a fixed value.  We also set a static level of zero oxygen at the \"bottom,\" to mimic continuous downwards diffusion.\n",
    "\n",
    "In a similar fashion, we set a static sink of ammonium where the “root” is."
   ]
  },
  {
   "cell_type": "code",
   "execution_count": 34,
   "metadata": {},
   "outputs": [],
   "source": [
    "# set static media of O2 and CO2 at the top and bottom-- the \"air\" and continuous loss of O2 downwards\n",
    "for x in range(grid_size):\n",
    "    layout.set_specific_static_at_location('o2_e', (x,0), .0001) # top\n",
    "    layout.set_specific_static_at_location('o2_e', (x,grid_size-1), 0.) # bottom\n",
    "    layout.set_specific_static_at_location('co2_e', (x,0), .0001)\n",
    "    \n",
    "for x in range(grid_size):\n",
    "    layout.set_specific_static_at_location('nh4_e', (0,x), 0.0)"
   ]
  },
  {
   "cell_type": "markdown",
   "metadata": {},
   "source": [
    "In contrast to ammonia, which we assume is always entirely consumed by the root, we assume the root drips organic acids and methanol into the environment at fixed rate, so we use a refresh function."
   ]
  },
  {
   "cell_type": "code",
   "execution_count": 35,
   "metadata": {},
   "outputs": [],
   "source": [
    "for x in range(grid_size):\n",
    "    layout.set_specific_refresh_at_location('cit_e', (0,x), .000001)\n",
    "    layout.set_specific_refresh_at_location('meoh_e', (0,x), .000001)\n",
    "    layout.set_specific_refresh_at_location('succ_e', (0,x), .000001)"
   ]
  },
  {
   "cell_type": "markdown",
   "metadata": {},
   "source": [
    "We are now done prepping the models and the layout. Next we setup the simulation parameters. Note the positive death rate.\n"
   ]
  },
  {
   "cell_type": "code",
   "execution_count": 36,
   "metadata": {},
   "outputs": [],
   "source": [
    "params = c.params()\n",
    "params.set_param('timeStep', 0.1)\n",
    "params.set_param('maxCycles', 5000)\n",
    "params.set_param('maxSpaceBiomass', 10)\n",
    "params.set_param('deathRate', 0.0001) # die at rate of 1/10000 per hour\n",
    "params.set_param('writeBiomassLog', True)\n",
    "params.set_param('BiomassLogRate', 500)\n",
    "params.set_param('writeMediaLog', True)\n",
    "params.set_param('MediaLogRate', 500)\n",
    "params.set_param(\"writeFluxLog\", True)\n",
    "params.set_param(\"FluxLogRate\", 500)\n",
    "params.set_param('numRunThreads', 3)\n",
    "params.set_param('defaultKm', 0.000001)"
   ]
  },
  {
   "cell_type": "code",
   "execution_count": null,
   "metadata": {},
   "outputs": [
    {
     "name": "stdout",
     "output_type": "stream",
     "text": [
      "warning:  we cannot find required java class libraries at the expected locations\n",
      "    specifically, we cannot find the following libraries at these locations:\n",
      "\n",
      "library common name \t expected path\n",
      "___________________ \t _____________\n",
      "gurobi\t/opt/gurobi900/linux64/gurobi.jar\n",
      "junit\t/Dropbox/work_related/harcombe_lab/segre/comets/bin/lib/junit/junit-4.12.jar\n",
      "hamcrest\t/Dropbox/work_related/harcombe_lab/segre/comets/bin/lib/junit/hamcrest-core-1.3.jar\n",
      "jogl_all\t/Dropbox/work_related/harcombe_lab/segre/comets/bin/lib/jogl/jogamp-all-platforms/jar/jogl-all.jar\n",
      "gluegen_rt\t/Dropbox/work_related/harcombe_lab/segre/comets/bin/lib/jogl/jogamp-all-platforms/jar/gluegen-rt.jar\n",
      "gluegen\t/Dropbox/work_related/harcombe_lab/segre/comets/bin/lib/jogl/jogamp-all-platforms/jar/gluegen.jar\n",
      "gluegen_rt_natives\t/Dropbox/work_related/harcombe_lab/segre/comets/bin/lib/jogl/jogamp-all-platforms/jar/gluegen-rt-natives-linux-amd64.jar\n",
      "jogl_all_natives\t/Dropbox/work_related/harcombe_lab/segre/comets/bin/lib/jogl/jogamp-all-platforms/jar/jogl-all-natives-linux-amd64.jar\n",
      "jmatio\t/Dropbox/work_related/harcombe_lab/segre/comets/bin/lib/JMatIO/lib/jamtio.jar\n",
      "jmat\t/Dropbox/work_related/harcombe_lab/segre/comets/bin/lib/JMatIO/JMatIO-041212/lib/jmatio.jar\n",
      "concurrent\t/Dropbox/work_related/harcombe_lab/segre/comets/bin/lib/colt/lib/concurrent.jar\n",
      "colt\t/Dropbox/work_related/harcombe_lab/segre/comets/bin/lib/colt/lib/colt.jar\n",
      "lang3\t/Dropbox/work_related/harcombe_lab/segre/comets/bin/lib/commons-lang3-3.7/commons-lang3-3.7.jar\n",
      "math3\t/Dropbox/work_related/harcombe_lab/segre/comets/bin/lib/commons-math3-3.6.1/commons-math3-3.6.1.jar\n",
      "bin\t/Dropbox/work_related/harcombe_lab/segre/comets/bin/bin/comets_evo.jar\n",
      "\n",
      "  You have two options to fix this problem:\n",
      "1.  set each class path correctly by doing:\n",
      "    comets.set_classpath(libraryname, path)\n",
      "    e.g.   comets.set_classpath('hamcrest', '/home/chaco001/comets/junit/hamcrest-core-1.3.jar')\n",
      "\n",
      "    note that versions dont always have to exactly match, but you're on your own if they don't\n",
      "\n",
      "2.  fully define the classpath yourself by overwriting comets.JAVA_CLASSPATH\n",
      "       look at the current comets.JAVA_CLASSPATH to see how this should look.\n",
      "\n",
      "Running COMETS simulation ...\n"
     ]
    }
   ],
   "source": [
    "sim = c.comets(layout, params)\n",
    "sim.run(False)"
   ]
  },
  {
   "cell_type": "code",
   "execution_count": null,
   "metadata": {},
   "outputs": [],
   "source": [
    "print(sim.run_output)"
   ]
  },
  {
   "cell_type": "markdown",
   "metadata": {},
   "source": [
    "Now we make a simulation object and run it.  This can take awhile."
   ]
  },
  {
   "cell_type": "code",
   "execution_count": 26,
   "metadata": {},
   "outputs": [
    {
     "data": {
      "text/plain": [
       "<matplotlib.image.AxesImage at 0x7f9665e74208>"
      ]
     },
     "execution_count": 26,
     "metadata": {},
     "output_type": "execute_result"
    },
    {
     "data": {
      "image/png": "[encoded data removed]",
      "text/plain": [
       "<Figure size 432x288 with 1 Axes>"
      ]
     },
     "metadata": {
      "needs_background": "light"
     },
     "output_type": "display_data"
    }
   ],
   "source": [
    "im = sim.get_biomass_image('iJN746', params.all_params['maxCycles'])\n",
    "im2 = sim.get_biomass_image('iYO844',params.all_params['maxCycles'])\n",
    "im3 = sim.get_biomass_image('iAF692',params.all_params['maxCycles'])\n",
    "\n",
    "final = np.zeros((grid_size,grid_size,3))\n",
    "final[:,:,0] = im / np.max(im)\n",
    "final[:,:,1] = im2 / np.max(im2)\n",
    "final[:,:,2] = im3 / np.max(im3)\n",
    "for rock in rock_locs:\n",
    "    final[rock[1]-1,rock[0]-1,0:3] = 0.5 \n",
    "from matplotlib import pyplot as plt\n",
    "import matplotlib.colors, matplotlib.cm\n",
    "my_cmap = matplotlib.cm.get_cmap(\"copper\")\n",
    "my_cmap.set_bad((0,0,0))\n",
    "\n",
    "plt.imshow(final)"
   ]
  },
  {
   "cell_type": "code",
   "execution_count": null,
   "metadata": {},
   "outputs": [],
   "source": [
    "sim.biomass_backup = sim.biomass"
   ]
  },
  {
   "cell_type": "code",
   "execution_count": null,
   "metadata": {},
   "outputs": [],
   "source": [
    "sim.biomass = sim.biomass.groupby([\"cycle\",\"x\",\"y\"]).sum().reset_index()"
   ]
  },
  {
   "cell_type": "code",
   "execution_count": null,
   "metadata": {},
   "outputs": [],
   "source": [
    "sim.biomass = sim.biomass_backup"
   ]
  },
  {
   "cell_type": "code",
   "execution_count": 16,
   "metadata": {},
   "outputs": [
    {
     "data": {
      "text/html": [
       "<div>\n",
       "<style scoped>\n",
       "    .dataframe tbody tr th:only-of-type {\n",
       "        vertical-align: middle;\n",
       "    }\n",
       "\n",
       "    .dataframe tbody tr th {\n",
       "        vertical-align: top;\n",
       "    }\n",
       "\n",
       "    .dataframe thead th {\n",
       "        text-align: right;\n",
       "    }\n",
       "</style>\n",
       "<table border=\"1\" class=\"dataframe\">\n",
       "  <thead>\n",
       "    <tr style=\"text-align: right;\">\n",
       "      <th></th>\n",
       "      <th>cycle</th>\n",
       "      <th>x</th>\n",
       "      <th>y</th>\n",
       "      <th>species</th>\n",
       "      <th>biomass</th>\n",
       "    </tr>\n",
       "  </thead>\n",
       "  <tbody>\n",
       "    <tr>\n",
       "      <th>0</th>\n",
       "      <td>0</td>\n",
       "      <td>4</td>\n",
       "      <td>22</td>\n",
       "      <td>iJN746</td>\n",
       "      <td>1.000000e-08</td>\n",
       "    </tr>\n",
       "    <tr>\n",
       "      <th>1</th>\n",
       "      <td>0</td>\n",
       "      <td>4</td>\n",
       "      <td>22</td>\n",
       "      <td>iYO844</td>\n",
       "      <td>0.000000e+00</td>\n",
       "    </tr>\n",
       "    <tr>\n",
       "      <th>2</th>\n",
       "      <td>0</td>\n",
       "      <td>4</td>\n",
       "      <td>22</td>\n",
       "      <td>iAF692</td>\n",
       "      <td>0.000000e+00</td>\n",
       "    </tr>\n",
       "    <tr>\n",
       "      <th>3</th>\n",
       "      <td>0</td>\n",
       "      <td>10</td>\n",
       "      <td>5</td>\n",
       "      <td>iJN746</td>\n",
       "      <td>1.000000e-08</td>\n",
       "    </tr>\n",
       "    <tr>\n",
       "      <th>4</th>\n",
       "      <td>0</td>\n",
       "      <td>10</td>\n",
       "      <td>5</td>\n",
       "      <td>iYO844</td>\n",
       "      <td>0.000000e+00</td>\n",
       "    </tr>\n",
       "    <tr>\n",
       "      <th>...</th>\n",
       "      <td>...</td>\n",
       "      <td>...</td>\n",
       "      <td>...</td>\n",
       "      <td>...</td>\n",
       "      <td>...</td>\n",
       "    </tr>\n",
       "    <tr>\n",
       "      <th>2668</th>\n",
       "      <td>10</td>\n",
       "      <td>29</td>\n",
       "      <td>28</td>\n",
       "      <td>iYO844</td>\n",
       "      <td>0.000000e+00</td>\n",
       "    </tr>\n",
       "    <tr>\n",
       "      <th>2669</th>\n",
       "      <td>10</td>\n",
       "      <td>29</td>\n",
       "      <td>28</td>\n",
       "      <td>iAF692</td>\n",
       "      <td>0.000000e+00</td>\n",
       "    </tr>\n",
       "    <tr>\n",
       "      <th>2670</th>\n",
       "      <td>10</td>\n",
       "      <td>29</td>\n",
       "      <td>29</td>\n",
       "      <td>iJN746</td>\n",
       "      <td>0.000000e+00</td>\n",
       "    </tr>\n",
       "    <tr>\n",
       "      <th>2671</th>\n",
       "      <td>10</td>\n",
       "      <td>29</td>\n",
       "      <td>29</td>\n",
       "      <td>iYO844</td>\n",
       "      <td>0.000000e+00</td>\n",
       "    </tr>\n",
       "    <tr>\n",
       "      <th>2672</th>\n",
       "      <td>10</td>\n",
       "      <td>29</td>\n",
       "      <td>29</td>\n",
       "      <td>iAF692</td>\n",
       "      <td>0.000000e+00</td>\n",
       "    </tr>\n",
       "  </tbody>\n",
       "</table>\n",
       "<p>2673 rows × 5 columns</p>\n",
       "</div>"
      ],
      "text/plain": [
       "      cycle   x   y species       biomass\n",
       "0         0   4  22  iJN746  1.000000e-08\n",
       "1         0   4  22  iYO844  0.000000e+00\n",
       "2         0   4  22  iAF692  0.000000e+00\n",
       "3         0  10   5  iJN746  1.000000e-08\n",
       "4         0  10   5  iYO844  0.000000e+00\n",
       "...     ...  ..  ..     ...           ...\n",
       "2668     10  29  28  iYO844  0.000000e+00\n",
       "2669     10  29  28  iAF692  0.000000e+00\n",
       "2670     10  29  29  iJN746  0.000000e+00\n",
       "2671     10  29  29  iYO844  0.000000e+00\n",
       "2672     10  29  29  iAF692  0.000000e+00\n",
       "\n",
       "[2673 rows x 5 columns]"
      ]
     },
     "execution_count": 16,
     "metadata": {},
     "output_type": "execute_result"
    }
   ],
   "source": [
    "sim.biomass"
   ]
  },
  {
   "cell_type": "code",
   "execution_count": null,
   "metadata": {},
   "outputs": [],
   "source": [
    "im2"
   ]
  }
 ],
 "metadata": {
  "kernelspec": {
   "display_name": "Python 3",
   "language": "python",
   "name": "python3"
  },
  "language_info": {
   "codemirror_mode": {
    "name": "ipython",
    "version": 3
   },
   "file_extension": ".py",
   "mimetype": "text/x-python",
   "name": "python",
   "nbconvert_exporter": "python",
   "pygments_lexer": "ipython3",
   "version": "3.6.9"
  }
 },
 "nbformat": 4,
 "nbformat_minor": 4
}
