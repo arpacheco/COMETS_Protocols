{
 "cells": [
  {
   "cell_type": "code",
   "execution_count": 1,
   "metadata": {},
   "outputs": [],
   "source": [
    "import cometspy as c\n",
    "import matplotlib as plt\n",
    "import cobra.test\n",
    "import cobra\n",
    "import pandas as pd\n",
    "import numpy as np"
   ]
  },
  {
   "cell_type": "code",
   "execution_count": 2,
   "metadata": {},
   "outputs": [
    {
     "name": "stdout",
     "output_type": "stream",
     "text": [
      "building empty layout model\n",
      "models will need to be added with layout.add_model()\n",
      "Warning: The added metabolite (glc__D_e) is notable to be taken up by any of the current models\n",
      "Warning: The added metabolite (cit_e) is notable to be taken up by any of the current models\n"
     ]
    }
   ],
   "source": [
    "# Create empty test tube \n",
    "flask = c.layout()\n",
    "\n",
    "# Set up DM25 media\n",
    "flask.add_typical_trace_metabolites()\n",
    "flask.set_specific_metabolite('glc__D_e', 0.000139)\n",
    "flask.set_specific_metabolite('cit_e', 0.0017)"
   ]
  },
  {
   "cell_type": "code",
   "execution_count": 3,
   "metadata": {},
   "outputs": [
    {
     "name": "stdout",
     "output_type": "stream",
     "text": [
      "Using license file /home/vilacelestin/gurobi.lic\n",
      "Academic license - for non-commercial use only\n"
     ]
    }
   ],
   "source": [
    "# Load the E. coli iJO1366 model \n",
    "model  = cobra.test.create_test_model('ecoli')\n",
    "\n",
    "# Set exchange reaction lower bounds to -1000 to allow them being controlled by COMETS \n",
    "for i in model.reactions:\n",
    "    if 'EX_' in i.id:\n",
    "        i.lower_bound =-1000.0"
   ]
  },
  {
   "cell_type": "code",
   "execution_count": 4,
   "metadata": {},
   "outputs": [
    {
     "name": "stdout",
     "output_type": "stream",
     "text": [
      "Read LP format model from file /tmp/tmpu26lm82l.lp\n",
      "Reading time = 0.01 seconds\n",
      ": 1805 rows, 5166 columns, 20366 nonzeros\n",
      "Read LP format model from file /tmp/tmpai46ella.lp\n",
      "Reading time = 0.01 seconds\n",
      ": 1805 rows, 5166 columns, 20366 nonzeros\n",
      "Read LP format model from file /tmp/tmp8ttlgsl9.lp\n",
      "Reading time = 0.01 seconds\n",
      ": 1805 rows, 5166 columns, 20366 nonzeros\n"
     ]
    }
   ],
   "source": [
    "# SUCCt2_3pp reaction is inactive in all genotypes; change its bounds to 0\n",
    "model.reactions.SUCCt2_3pp.upper_bound=0.0\n",
    "\n",
    "# copy the model to create the genotype with both citT and dctA available\n",
    "CitTdctA = model.copy()\n",
    "CitTdctA.id = 'Cit++'\n",
    "\n",
    "# now make dctA unavailable to create the mutant only expressing citT\n",
    "model.reactions.SUCCt2_2pp.upper_bound =0.0\n",
    "CitT = model.copy()\n",
    "CitT.id = 'Cit+'\n",
    "\n",
    "# finally, make citT unavailable to create the wild-type genotype\n",
    "model.reactions.CITt7pp.upper_bound =0.0\n",
    "WT = model.copy()\n",
    "WT.id= 'Ancestor' "
   ]
  },
  {
   "cell_type": "code",
   "execution_count": 5,
   "metadata": {},
   "outputs": [],
   "source": [
    "# Generate comets model for the WT\n",
    "wt = c.model(WT)\n",
    "wt.initial_pop = [0, 0, 3.9e-11] \n",
    "\n",
    "citT = c.model(CitT)\n",
    "citT.initial_pop = [0, 0, 0] # not present at start\n",
    "\n",
    "citTdctA = c.model(CitTdctA)\n",
    "citTdctA.initial_pop = [0, 0, 0] # not present at start"
   ]
  },
  {
   "cell_type": "code",
   "execution_count": 6,
   "metadata": {},
   "outputs": [],
   "source": [
    "# set vmax for WT\n",
    "wt.change_vmax('EX_nh4_e',1000)\n",
    "wt.change_vmax('EX_o2_e',1000)\n",
    "wt.change_vmax('EX_h_e',1000) \n",
    "\n",
    "# set vmax for citT\n",
    "citT.change_vmax('EX_nh4_e',1000)\n",
    "citT.change_vmax('EX_o2_e',1000)\n",
    "citT.change_vmax('EX_h_e',1000) \n",
    "\n",
    "citTdctA.change_vmax('EX_nh4_e',1000)\n",
    "citTdctA.change_vmax('EX_o2_e',1000)\n",
    "citTdctA.change_vmax('EX_h_e',1000) \n"
   ]
  },
  {
   "cell_type": "code",
   "execution_count": 7,
   "metadata": {},
   "outputs": [],
   "source": [
    "flask.add_model(wt)\n",
    "flask.add_model(citT)\n",
    "flask.add_model(citTdctA)"
   ]
  },
  {
   "cell_type": "code",
   "execution_count": 8,
   "metadata": {},
   "outputs": [],
   "source": [
    "# Setting paramaters for the simulation\n",
    "b_params = c.params()\n",
    "b_params.set_param('timeStep', 1.0) \n",
    "b_params.set_param('deathRate', 0.01)\n",
    "b_params.set_param('batchDilution', True)\n",
    "b_params.set_param('dilTime', 24)\n",
    "b_params.set_param('dilFactor', 100)\n",
    "\n",
    "one_cell = 3.9e-13 # gr. dry weight of an E. coli cell \n",
    "b_params.set_param('cellSize', one_cell)\n",
    "b_params.set_param('minSpaceBiomass', 3.8e-13)  # <1cell "
   ]
  },
  {
   "cell_type": "code",
   "execution_count": 9,
   "metadata": {},
   "outputs": [
    {
     "name": "stdout",
     "output_type": "stream",
     "text": [
      "\n",
      "Running COMETS simulation ...\n",
      "Done!\n"
     ]
    }
   ],
   "source": [
    "# number of simulation cycles per day  \n",
    "cycles_per_day = 24.0/b_params.all_params['timeStep']\n",
    "\n",
    "sim = c.comets(flask, b_params)\n",
    "sim.parameters.set_param('maxCycles', int(900*cycles_per_day))\n",
    "sim.run()\n",
    "# Create dataframe with population dynamics from phase 1\n",
    "phase_1 = pd.DataFrame({'Ancestor' : sim.total_biomass.Ancestor/one_cell,\n",
    "                        'CitT' : sim.total_biomass['Cit+']/one_cell,\n",
    "                        'CitTdctA' : sim.total_biomass['Cit++']/one_cell,\n",
    "                        'Generations' : 6.67*(sim.total_biomass.cycle+1)/cycles_per_day + 25000})\n"
   ]
  },
  {
   "cell_type": "code",
   "execution_count": 10,
   "metadata": {},
   "outputs": [
    {
     "name": "stdout",
     "output_type": "stream",
     "text": [
      "\n",
      "Running COMETS simulation ...\n",
      "Done!\n"
     ]
    }
   ],
   "source": [
    "# The initial population size for the wild type will be its final population size from the previous phase. \n",
    "sim.layout.models[0].initial_pop = [0, 0, float(sim.total_biomass.Ancestor.tail(1))]\n",
    "\n",
    "# Introduce new genotypes 100 cells at a time to avoid the risk of them drifting to extinction\n",
    "sim.layout.models[1].initial_pop = [0, 0, one_cell*100]\n",
    "\n",
    "\n",
    "# Running build_initial_pop is essential when we change the initial population sizes of models that are already loaded into a layout\n",
    "sim.layout.build_initial_pop()\n",
    "\n",
    "\n",
    "# Change the cycles \n",
    "sim.parameters.set_param('maxCycles', int(300*cycles_per_day))\n",
    "sim.run()\n",
    "phase_2 = pd.DataFrame({'Ancestor' : sim.total_biomass.Ancestor/one_cell,\n",
    "                        'CitT' : sim.total_biomass['Cit+']/one_cell,\n",
    "                        'CitTdctA' : sim.total_biomass['Cit++']/one_cell,\n",
    "                        'Generations' : 6.67*(sim.total_biomass.cycle)/cycles_per_day + max(phase_1.Generations)})"
   ]
  },
  {
   "cell_type": "code",
   "execution_count": 11,
   "metadata": {},
   "outputs": [
    {
     "name": "stdout",
     "output_type": "stream",
     "text": [
      "\n",
      "Running COMETS simulation ...\n",
      "Done!\n"
     ]
    }
   ],
   "source": [
    "sim.layout.models[0].initial_pop = [0, 0, float(sim.total_biomass.Ancestor.tail(1))]\n",
    "sim.layout.models[1].initial_pop = [0, 0, float(sim.total_biomass['Cit+'].tail(1))]\n",
    "sim.layout.models[2].initial_pop = [0, 0, 3.9e-11]\n",
    "sim.layout.build_initial_pop()\n",
    "sim.parameters.set_param('maxCycles', int(900*cycles_per_day))\n",
    "sim.run()\n",
    "phase_3 = pd.DataFrame({'Ancestor' : sim.total_biomass.Ancestor/(3.9e-13),\n",
    "                        'CitT' : sim.total_biomass['Cit+']/(3.9e-13),\n",
    "                        'CitTdctA' : sim.total_biomass['Cit++']/(3.9e-13),\n",
    "                        'Generations' : 6.67*(sim.total_biomass.cycle)/cycles_per_day + max(phase_2.Generations) }) \n"
   ]
  },
  {
   "cell_type": "code",
   "execution_count": 14,
   "metadata": {},
   "outputs": [
    {
     "data": {
      "text/plain": [
       "[Text(0, 0, '0'),\n",
       " Text(0, 0, '1 x $10^8$'),\n",
       " Text(0, 0, '2 x $10^8$'),\n",
       " Text(0, 0, '3 x $10^8$')]"
      ]
     },
     "execution_count": 14,
     "metadata": {},
     "output_type": "execute_result"
    },
    {
     "data": {
      "image/png": "[encoded data removed]",
      "text/plain": [
       "<Figure size 432x288 with 1 Axes>"
      ]
     },
     "metadata": {
      "needs_background": "light"
     },
     "output_type": "display_data"
    }
   ],
   "source": [
    "# Remove the final timepoint from each phase and merge them together to plot\n",
    "phase_1.drop(phase_1.tail(1).index, inplace=True)\n",
    "phase_2.drop(phase_2.tail(1).index, inplace=True)\n",
    "phase_3.drop(phase_3.tail(1).index, inplace=True)\n",
    "final_df = pd.concat([phase_1,phase_2,phase_3])\n",
    "final_df.reindex()\n",
    "\n",
    "# Subset to only plot final timepoint within each transfer and convet generation into thousands\n",
    "final_df = final_df[np.round((final_df.Generations - 25000) % 6.67,3) == 6.67]\n",
    "final_df.Generations = final_df.Generations/1000\n",
    "\n",
    "# Plot\n",
    "fig = final_df.plot(x='Generations')\n",
    "fig.set_xlabel('Generation (in thousands)')\n",
    "fig.set_ylabel('Population Size / ml')\n",
    "fig.set_yticks([0,1e+08,2e+08,3e+08])\n",
    "fig.set_yticklabels(['0','1 x $10^8$','2 x $10^8$','3 x $10^8$'])"
   ]
  }
 ],
 "metadata": {
  "kernelspec": {
   "display_name": "Python 3",
   "language": "python",
   "name": "python3"
  },
  "language_info": {
   "codemirror_mode": {
    "name": "ipython",
    "version": 3
   },
   "file_extension": ".py",
   "mimetype": "text/x-python",
   "name": "python",
   "nbconvert_exporter": "python",
   "pygments_lexer": "ipython3",
   "version": "3.7.3"
  }
 },
 "nbformat": 4,
 "nbformat_minor": 2
}
