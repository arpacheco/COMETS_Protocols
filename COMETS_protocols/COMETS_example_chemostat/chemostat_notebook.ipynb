{
 "cells": [
  {
   "cell_type": "markdown",
   "metadata": {},
   "source": [
    "**Simulating a chemostat and crossfeeding with COMETS**\n",
    "\n",
    "COMETS provides the functionality to run simulations in a chemostat. Here, we use the python toolbox to generate a chemostat simulation in two ways. 1) by manually assigning all the \"parts,\" and 2) by using a helper function we've included.\n",
    "\n",
    "Here we are going to simulate a chemostat with lactose as the sole carbon resource and two strains of E. coli: one which is defiicient in the ability to uptake lactose, and one which is deficient in the ability to metabolize galactose. We will use the ijo1366 model provided as part of cobrapy. Let's first do the imports."
   ]
  },
  {
   "cell_type": "code",
   "execution_count": 39,
   "metadata": {},
   "outputs": [],
   "source": [
    "import cobra\n",
    "import cobra.test # for the ijo1366 model\n",
    "import sys\n",
    "sys.path.append(\"/home/jeremy/Dropbox/work_related/harcombe_lab/segre/COMETS-Python-Toolbox\")\n",
    "import comets as c"
   ]
  },
  {
   "cell_type": "markdown",
   "metadata": {},
   "source": [
    "Now let's load the ijo1366 model, make a copy, and knockout the relevant reactions.\n",
    "\n",
    "Note that the first model had galE knocked out to prevent metabolism of galactose, which will cause galactose to be secreted during metabolism of lactose. The second model had a reaction knocked out instead of a gene, as lactose transport to the periplasm can be accomplished with multiple genes, and so it is simpler to juts knockout the reaction itself."
   ]
  },
  {
   "cell_type": "code",
   "execution_count": 40,
   "metadata": {},
   "outputs": [],
   "source": [
    "E_no_galE = cobra.test.create_test_model(\"ecoli\") # this model will have galE KO'd\n",
    "E_no_LCTStex = E_no_galE.copy() # this model will have lactose uptake KO'd\n",
    "E_no_galE.genes.b0759.knock_out()\n",
    "E_no_LCTStex.reactions.LCTStex.knock_out()"
   ]
  },
  {
   "cell_type": "markdown",
   "metadata": {},
   "source": [
    "We can test that the knockouts perform as expected by trying to grow them in media containing lactose and galactose. We do this in cobrapy."
   ]
  },
  {
   "cell_type": "code",
   "execution_count": 41,
   "metadata": {},
   "outputs": [
    {
     "name": "stdout",
     "output_type": "stream",
     "text": [
      "{'EX_ca2_e': 1000.0, 'EX_cbl1_e': 0.01, 'EX_cl_e': 1000.0, 'EX_co2_e': 1000.0, 'EX_cobalt2_e': 1000.0, 'EX_cu2_e': 1000.0, 'EX_fe2_e': 1000.0, 'EX_fe3_e': 1000.0, 'EX_glc__D_e': 0.0, 'EX_h_e': 1000.0, 'EX_h2o_e': 1000.0, 'EX_k_e': 1000.0, 'EX_mg2_e': 1000.0, 'EX_mn2_e': 1000.0, 'EX_mobd_e': 1000.0, 'EX_na1_e': 1000.0, 'EX_nh4_e': 1000.0, 'EX_ni2_e': 1000.0, 'EX_o2_e': 1000.0, 'EX_pi_e': 1000.0, 'EX_sel_e': 1000.0, 'EX_slnt_e': 1000.0, 'EX_so4_e': 1000.0, 'EX_tungs_e': 1000.0, 'EX_zn2_e': 1000.0, 'EX_lcts_e': 1.0, 'EX_gal_e': 1.0}\n",
      "\n",
      "\n",
      "E_no_galE uptakes lactose and excrete galactose: \n"
     ]
    },
    {
     "data": {
      "text/html": [
       "<div>\n",
       "<style scoped>\n",
       "    .dataframe tbody tr th:only-of-type {\n",
       "        vertical-align: middle;\n",
       "    }\n",
       "\n",
       "    .dataframe tbody tr th {\n",
       "        vertical-align: top;\n",
       "    }\n",
       "\n",
       "    .dataframe thead tr th {\n",
       "        text-align: left;\n",
       "    }\n",
       "</style>\n",
       "<table border=\"1\" class=\"dataframe\">\n",
       "  <thead>\n",
       "    <tr>\n",
       "      <th></th>\n",
       "      <th colspan=\"2\" halign=\"left\">IN_FLUXES</th>\n",
       "      <th colspan=\"2\" halign=\"left\">OUT_FLUXES</th>\n",
       "      <th colspan=\"2\" halign=\"left\">OBJECTIVES</th>\n",
       "    </tr>\n",
       "    <tr>\n",
       "      <th></th>\n",
       "      <th>ID</th>\n",
       "      <th>FLUX</th>\n",
       "      <th>ID</th>\n",
       "      <th>FLUX</th>\n",
       "      <th>ID</th>\n",
       "      <th>FLUX</th>\n",
       "    </tr>\n",
       "  </thead>\n",
       "  <tbody>\n",
       "    <tr>\n",
       "      <th>0</th>\n",
       "      <td>o2_e</td>\n",
       "      <td>2.464303</td>\n",
       "      <td>h2o_e</td>\n",
       "      <td>4.131365</td>\n",
       "      <td>BIOMASS_Ec_iJO1366_core_53p95M</td>\n",
       "      <td>0.086479</td>\n",
       "    </tr>\n",
       "    <tr>\n",
       "      <th>1</th>\n",
       "      <td>lcts_e</td>\n",
       "      <td>1.000000</td>\n",
       "      <td>co2_e</td>\n",
       "      <td>2.450194</td>\n",
       "      <td>NaN</td>\n",
       "      <td>NaN</td>\n",
       "    </tr>\n",
       "    <tr>\n",
       "      <th>2</th>\n",
       "      <td>nh4_e</td>\n",
       "      <td>0.934040</td>\n",
       "      <td>gal_e</td>\n",
       "      <td>1.000000</td>\n",
       "      <td>NaN</td>\n",
       "      <td>NaN</td>\n",
       "    </tr>\n",
       "    <tr>\n",
       "      <th>3</th>\n",
       "      <td>fe2_e</td>\n",
       "      <td>0.795974</td>\n",
       "      <td>fe3_e</td>\n",
       "      <td>0.794585</td>\n",
       "      <td>NaN</td>\n",
       "      <td>NaN</td>\n",
       "    </tr>\n",
       "    <tr>\n",
       "      <th>4</th>\n",
       "      <td>pi_e</td>\n",
       "      <td>0.083420</td>\n",
       "      <td>NaN</td>\n",
       "      <td>NaN</td>\n",
       "      <td>NaN</td>\n",
       "      <td>NaN</td>\n",
       "    </tr>\n",
       "  </tbody>\n",
       "</table>\n",
       "</div>"
      ],
      "text/plain": [
       "<cobra.core.summary.model_summary.ModelSummary at 0x7fdd560619e8>"
      ]
     },
     "execution_count": 41,
     "metadata": {},
     "output_type": "execute_result"
    }
   ],
   "source": [
    "medium = E_no_galE.medium\n",
    "medium[\"EX_glc__D_e\"] = 0.\n",
    "medium[\"EX_lcts_e\"] = 1.\n",
    "medium[\"EX_gal_e\"] = 1.\n",
    "print(medium)\n",
    "E_no_galE.medium = medium\n",
    "E_no_LCTStex.medium = medium\n",
    "# examine growth and uptake in the galE knockout shows galactose is excreted\n",
    "print(\"\\n\\nE_no_galE uptakes lactose and excrete galactose: \")\n",
    "E_no_galE.summary()"
   ]
  },
  {
   "cell_type": "code",
   "execution_count": 42,
   "metadata": {},
   "outputs": [
    {
     "name": "stdout",
     "output_type": "stream",
     "text": [
      "\n",
      "\n",
      "E_no_LCTStex uptakes galactose but not lactose: \n"
     ]
    },
    {
     "data": {
      "text/html": [
       "<div>\n",
       "<style scoped>\n",
       "    .dataframe tbody tr th:only-of-type {\n",
       "        vertical-align: middle;\n",
       "    }\n",
       "\n",
       "    .dataframe tbody tr th {\n",
       "        vertical-align: top;\n",
       "    }\n",
       "\n",
       "    .dataframe thead tr th {\n",
       "        text-align: left;\n",
       "    }\n",
       "</style>\n",
       "<table border=\"1\" class=\"dataframe\">\n",
       "  <thead>\n",
       "    <tr>\n",
       "      <th></th>\n",
       "      <th colspan=\"2\" halign=\"left\">IN_FLUXES</th>\n",
       "      <th colspan=\"2\" halign=\"left\">OUT_FLUXES</th>\n",
       "      <th colspan=\"2\" halign=\"left\">OBJECTIVES</th>\n",
       "    </tr>\n",
       "    <tr>\n",
       "      <th></th>\n",
       "      <th>ID</th>\n",
       "      <th>FLUX</th>\n",
       "      <th>ID</th>\n",
       "      <th>FLUX</th>\n",
       "      <th>ID</th>\n",
       "      <th>FLUX</th>\n",
       "    </tr>\n",
       "  </thead>\n",
       "  <tbody>\n",
       "    <tr>\n",
       "      <th>0</th>\n",
       "      <td>o2_e</td>\n",
       "      <td>2.310433</td>\n",
       "      <td>h2o_e</td>\n",
       "      <td>4.749252</td>\n",
       "      <td>BIOMASS_Ec_iJO1366_core_53p95M</td>\n",
       "      <td>0.085442</td>\n",
       "    </tr>\n",
       "    <tr>\n",
       "      <th>1</th>\n",
       "      <td>gal_e</td>\n",
       "      <td>1.000000</td>\n",
       "      <td>co2_e</td>\n",
       "      <td>2.492757</td>\n",
       "      <td>NaN</td>\n",
       "      <td>NaN</td>\n",
       "    </tr>\n",
       "    <tr>\n",
       "      <th>2</th>\n",
       "      <td>nh4_e</td>\n",
       "      <td>0.922840</td>\n",
       "      <td>h_e</td>\n",
       "      <td>0.785058</td>\n",
       "      <td>NaN</td>\n",
       "      <td>NaN</td>\n",
       "    </tr>\n",
       "    <tr>\n",
       "      <th>3</th>\n",
       "      <td>pi_e</td>\n",
       "      <td>0.082420</td>\n",
       "      <td>NaN</td>\n",
       "      <td>NaN</td>\n",
       "      <td>NaN</td>\n",
       "      <td>NaN</td>\n",
       "    </tr>\n",
       "  </tbody>\n",
       "</table>\n",
       "</div>"
      ],
      "text/plain": [
       "<cobra.core.summary.model_summary.ModelSummary at 0x7fdd58241780>"
      ]
     },
     "execution_count": 42,
     "metadata": {},
     "output_type": "execute_result"
    }
   ],
   "source": [
    "print(\"\\n\\nE_no_LCTStex uptakes galactose but not lactose: \")\n",
    "E_no_LCTStex.summary()"
   ]
  },
  {
   "cell_type": "markdown",
   "metadata": {},
   "source": [
    "Now that we are satisfied we have made our models correctly, we can setup a COMES simulation. Let's intend that the medium above is the reservoir medium (except that we will remove galactose first), and that the input rate and output rate are 10% per hour. Here, let's set dilution rate parameter, the initial population size (in gDW), and generate the COMETS models. \n",
    "\n",
    "Whenever we make COMETS models from COBRA models, we almost always want to set the exchange lower bounds to -1000 so that COMETS can alter these based upon media concentrations.\n",
    "\n",
    "Finally, right now both models have the same ID, which will confuse COMETS, so we must give them unique IDs."
   ]
  },
  {
   "cell_type": "code",
   "execution_count": 43,
   "metadata": {},
   "outputs": [],
   "source": [
    "# chemostat parameters\n",
    "dilution_rate = 0.1 # / hr\n",
    "initial_pop = 1.e-3 # gDW\n",
    "\n",
    "# make COMETS models from the cobrapy models\n",
    "E_no_galE.id = \"galE_KO\"\n",
    "E_no_LCTStex.id = \"LCTStex_KO\"\n",
    "\n",
    "galE_comets = c.model(E_no_galE)\n",
    "galE_comets.initial_pop = [0,0,initial_pop] # x, y, gDW\n",
    "galE_comets.reactions.loc[galE_comets.reactions.EXCH, \"LB\"] = -1000\n",
    "\n",
    "lcts_comets = c.model(E_no_LCTStex)\n",
    "lcts_comets.initial_pop = [0,0,initial_pop] # x, y, gDW\n",
    "lcts_comets.reactions.loc[lcts_comets.reactions.EXCH, \"LB\"] = -1000"
   ]
  },
  {
   "cell_type": "markdown",
   "metadata": {},
   "source": [
    "Now we are going to use the manual method for making a chemostat. Recall that cobrapy media are set using exchange reaction IDs, whereas COMETS media are set using metabolite ids. We can easily take care of this difference with a dictionary comprehension. Here we do that, then generate a layout, and add the media components to that layout."
   ]
  },
  {
   "cell_type": "code",
   "execution_count": 44,
   "metadata": {},
   "outputs": [],
   "source": [
    "# setup layout by providing models\n",
    "layout = c.layout([galE_comets, lcts_comets])\n",
    "\n",
    "# re-write media (while removing galactose) and add it to layout\n",
    "comets_media = {key[3:]: value for key, value in medium.items() if key != \"EX_gal_e\"}\n",
    "for key, value in comets_media.items():\n",
    "    layout.set_specific_metabolite(key, value)"
   ]
  },
  {
   "cell_type": "markdown",
   "metadata": {},
   "source": [
    "The input of fresh media from the reservoir into the simulation is done using media_refresh. Metabolites with a media_refresh value are replenished at the specified amount per-hour. Since we are diluting at 0.1 per hour, we multiply the reservoir concentration by this rate."
   ]
  },
  {
   "cell_type": "code",
   "execution_count": 45,
   "metadata": {},
   "outputs": [],
   "source": [
    "for key, value in comets_media.items():\n",
    "    layout.set_specific_refresh(key, value * dilution_rate)"
   ]
  },
  {
   "cell_type": "markdown",
   "metadata": {},
   "source": [
    "The rest of the chemostat--the outflow--is setup in the parameters using metaboliteDilutionRate and deathRate. These should be set equal to the desired dilution rate. Here we generate a parameters object and set these values."
   ]
  },
  {
   "cell_type": "code",
   "execution_count": 46,
   "metadata": {},
   "outputs": [],
   "source": [
    "params = c.params()\n",
    "params.all_params[\"deathRate\"] = dilution_rate\n",
    "params.all_params[\"metaboliteDilutionRate\"] = dilution_rate"
   ]
  },
  {
   "cell_type": "markdown",
   "metadata": {},
   "source": [
    "Let's also adjust a few other parameters."
   ]
  },
  {
   "cell_type": "code",
   "execution_count": 47,
   "metadata": {},
   "outputs": [],
   "source": [
    "params.all_params[\"timeStep\"] = 0.1 # hours\n",
    "params.all_params[\"maxSpaceBiomass\"] = 10. # gDW\n",
    "params.all_params[\"maxCycles\"] = 2000 # duration of simulation in time steps"
   ]
  },
  {
   "cell_type": "markdown",
   "metadata": {},
   "source": [
    "Finally, let's keep track of two key metabolites: lactose and galactose. We do this using the specificMedia log, and choosing the metabolites with a comma-separated string with no spaces."
   ]
  },
  {
   "cell_type": "code",
   "execution_count": 48,
   "metadata": {},
   "outputs": [],
   "source": [
    "params.all_params[\"writeSpecificMediaLog\"] = True\n",
    "params.all_params[\"specificMediaLogRate\"] = 1 # time steps\n",
    "params.all_params[\"specificMedia\"] = \"lcts_e,gal_e\" # metabolites to track"
   ]
  },
  {
   "cell_type": "markdown",
   "metadata": {},
   "source": [
    "Now the chemostat aspects are setup using the layout and the parameters. Therefore, we can generate a COMETS simulation, run it, and then examine the biomass and metabolites."
   ]
  },
  {
   "cell_type": "code",
   "execution_count": 49,
   "metadata": {},
   "outputs": [
    {
     "name": "stdout",
     "output_type": "stream",
     "text": [
      "warning:  we cannot find required java class libraries at the expected locations\n",
      "    specifically, we cannot find the following libraries at these locations:\n",
      "\n",
      "library common name \t expected path\n",
      "___________________ \t _____________\n",
      "gurobi\t/opt/gurobi900/linux64/gurobi.jar\n",
      "junit\t/Dropbox/work_related/harcombe_lab/segre/comets/bin/lib/junit/junit-4.12.jar\n",
      "hamcrest\t/Dropbox/work_related/harcombe_lab/segre/comets/bin/lib/junit/hamcrest-core-1.3.jar\n",
      "jogl_all\t/Dropbox/work_related/harcombe_lab/segre/comets/bin/lib/jogl/jogamp-all-platforms/jar/jogl-all.jar\n",
      "gluegen_rt\t/Dropbox/work_related/harcombe_lab/segre/comets/bin/lib/jogl/jogamp-all-platforms/jar/gluegen-rt.jar\n",
      "gluegen\t/Dropbox/work_related/harcombe_lab/segre/comets/bin/lib/jogl/jogamp-all-platforms/jar/gluegen.jar\n",
      "gluegen_rt_natives\t/Dropbox/work_related/harcombe_lab/segre/comets/bin/lib/jogl/jogamp-all-platforms/jar/gluegen-rt-natives-linux-amd64.jar\n",
      "jogl_all_natives\t/Dropbox/work_related/harcombe_lab/segre/comets/bin/lib/jogl/jogamp-all-platforms/jar/jogl-all-natives-linux-amd64.jar\n",
      "jmatio\t/Dropbox/work_related/harcombe_lab/segre/comets/bin/lib/JMatIO/lib/jamtio.jar\n",
      "jmat\t/Dropbox/work_related/harcombe_lab/segre/comets/bin/lib/JMatIO/JMatIO-041212/lib/jmatio.jar\n",
      "concurrent\t/Dropbox/work_related/harcombe_lab/segre/comets/bin/lib/colt/lib/concurrent.jar\n",
      "colt\t/Dropbox/work_related/harcombe_lab/segre/comets/bin/lib/colt/lib/colt.jar\n",
      "lang3\t/Dropbox/work_related/harcombe_lab/segre/comets/bin/lib/commons-lang3-3.7/commons-lang3-3.7.jar\n",
      "math3\t/Dropbox/work_related/harcombe_lab/segre/comets/bin/lib/commons-math3-3.6.1/commons-math3-3.6.1.jar\n",
      "bin\t/Dropbox/work_related/harcombe_lab/segre/comets/bin/bin/comets_evo.jar\n",
      "\n",
      "  You have two options to fix this problem:\n",
      "1.  set each class path correctly by doing:\n",
      "    comets.set_classpath(libraryname, path)\n",
      "    e.g.   comets.set_classpath('hamcrest', '/home/chaco001/comets/junit/hamcrest-core-1.3.jar')\n",
      "\n",
      "    note that versions dont always have to exactly match, but you're on your own if they don't\n",
      "\n",
      "2.  fully define the classpath yourself by overwriting comets.JAVA_CLASSPATH\n",
      "       look at the current comets.JAVA_CLASSPATH to see how this should look.\n",
      "\n",
      "Running COMETS simulation ...\n",
      "Done!\n"
     ]
    },
    {
     "data": {
      "text/plain": [
       "<matplotlib.axes._subplots.AxesSubplot at 0x7fdd58384e48>"
      ]
     },
     "execution_count": 49,
     "metadata": {},
     "output_type": "execute_result"
    },
    {
     "data": {
      "image/png": "[encoded data removed]",
      "text/plain": [
       "<Figure size 432x288 with 1 Axes>"
      ]
     },
     "metadata": {
      "needs_background": "light"
     },
     "output_type": "display_data"
    },
    {
     "data": {
      "image/png": "[encoded data removed]",
      "text/plain": [
       "<Figure size 432x288 with 1 Axes>"
      ]
     },
     "metadata": {
      "needs_background": "light"
     },
     "output_type": "display_data"
    }
   ],
   "source": [
    "sim = c.comets(layout, params)\n",
    "# this should all be removable once the installer is made with dependencies in a predictable location\n",
    "sim.set_classpath(\"concurrent\", \"/opt/colt/lib/concurrent.jar\")\n",
    "sim.set_classpath(\"colt\", \"/opt/colt/lib/colt.jar\")\n",
    "sim.set_classpath(\"lang3\", \"/opt/commons-lang3-3.9/commons-lang3-3.9.jar\")\n",
    "sim.set_classpath(\"jmatio\",\"/opt/jmatio/lib/jmatio.jar\")\n",
    "sim.set_classpath(\"math3\",\"/opt/commons-math3-3.6.1/commons-math3-3.6.1.jar\")\n",
    "sim.set_classpath(\"bin\",\"/home/jeremy/Dropbox/work_related/harcombe_lab/segre/jars/comets_2.8.2.jar\")\n",
    "sim.set_classpath(\"gurobi\",\"/opt/gurobi900/linux64/lib/gurobi.jar\")\n",
    "sim.run()"
   ]
  },
  {
   "cell_type": "markdown",
   "metadata": {},
   "source": [
    "Now let's plot the results. Note how we specify the axes, otherwise \"cycle\", \"x\", and \"y\" will be assumed to be state variables. \n",
    "\n",
    "What we see is that both species survive, because the LCTStex_KO cross-feeds galactose from the galE_KO, which uses the glucose piece of lactose. The metabolites, as is typical in a chemostat, are in very low concentrations once equilibrium is reached."
   ]
  },
  {
   "cell_type": "code",
   "execution_count": 51,
   "metadata": {},
   "outputs": [
    {
     "data": {
      "text/plain": [
       "<matplotlib.axes._subplots.AxesSubplot at 0x7fdd582d8780>"
      ]
     },
     "execution_count": 51,
     "metadata": {},
     "output_type": "execute_result"
    },
    {
     "data": {
      "image/png": "[encoded data removed]",
      "text/plain": [
       "<Figure size 432x288 with 1 Axes>"
      ]
     },
     "metadata": {
      "needs_background": "light"
     },
     "output_type": "display_data"
    },
    {
     "data": {
      "image/png": "[encoded data removed]",
      "text/plain": [
       "<Figure size 432x288 with 1 Axes>"
      ]
     },
     "metadata": {
      "needs_background": "light"
     },
     "output_type": "display_data"
    }
   ],
   "source": [
    "sim.total_biomass.plot(x = \"cycle\")\n",
    "sim.specific_media.plot(x = \"cycle\",y = [\"lcts_e\",\"gal_e\"])"
   ]
  },
  {
   "cell_type": "markdown",
   "metadata": {},
   "source": [
    "The above code required setting chemostat parameters in multiple places. We offer this functionality so that researchers can create complex setups that may, for example, have different initial concentrations than reservoir concentrations, and different inflow rates than outflow rates. However, we expect most chemostat simulations will function like abbove, where a single dilution parameter dictates the behavior of the system. For this typical use-case, we have made a helper function which generates a layout and parameters objects with the correct setup."
   ]
  },
  {
   "cell_type": "code",
   "execution_count": null,
   "metadata": {},
   "outputs": [
    {
     "name": "stdout",
     "output_type": "stream",
     "text": [
      "warning:  we cannot find required java class libraries at the expected locations\n",
      "    specifically, we cannot find the following libraries at these locations:\n",
      "\n",
      "library common name \t expected path\n",
      "___________________ \t _____________\n",
      "gurobi\t/opt/gurobi900/linux64/gurobi.jar\n",
      "junit\t/Dropbox/work_related/harcombe_lab/segre/comets/bin/lib/junit/junit-4.12.jar\n",
      "hamcrest\t/Dropbox/work_related/harcombe_lab/segre/comets/bin/lib/junit/hamcrest-core-1.3.jar\n",
      "jogl_all\t/Dropbox/work_related/harcombe_lab/segre/comets/bin/lib/jogl/jogamp-all-platforms/jar/jogl-all.jar\n",
      "gluegen_rt\t/Dropbox/work_related/harcombe_lab/segre/comets/bin/lib/jogl/jogamp-all-platforms/jar/gluegen-rt.jar\n",
      "gluegen\t/Dropbox/work_related/harcombe_lab/segre/comets/bin/lib/jogl/jogamp-all-platforms/jar/gluegen.jar\n",
      "gluegen_rt_natives\t/Dropbox/work_related/harcombe_lab/segre/comets/bin/lib/jogl/jogamp-all-platforms/jar/gluegen-rt-natives-linux-amd64.jar\n",
      "jogl_all_natives\t/Dropbox/work_related/harcombe_lab/segre/comets/bin/lib/jogl/jogamp-all-platforms/jar/jogl-all-natives-linux-amd64.jar\n",
      "jmatio\t/Dropbox/work_related/harcombe_lab/segre/comets/bin/lib/JMatIO/lib/jamtio.jar\n",
      "jmat\t/Dropbox/work_related/harcombe_lab/segre/comets/bin/lib/JMatIO/JMatIO-041212/lib/jmatio.jar\n",
      "concurrent\t/Dropbox/work_related/harcombe_lab/segre/comets/bin/lib/colt/lib/concurrent.jar\n",
      "colt\t/Dropbox/work_related/harcombe_lab/segre/comets/bin/lib/colt/lib/colt.jar\n",
      "lang3\t/Dropbox/work_related/harcombe_lab/segre/comets/bin/lib/commons-lang3-3.7/commons-lang3-3.7.jar\n",
      "math3\t/Dropbox/work_related/harcombe_lab/segre/comets/bin/lib/commons-math3-3.6.1/commons-math3-3.6.1.jar\n",
      "bin\t/Dropbox/work_related/harcombe_lab/segre/comets/bin/bin/comets_evo.jar\n",
      "\n",
      "  You have two options to fix this problem:\n",
      "1.  set each class path correctly by doing:\n",
      "    comets.set_classpath(libraryname, path)\n",
      "    e.g.   comets.set_classpath('hamcrest', '/home/chaco001/comets/junit/hamcrest-core-1.3.jar')\n",
      "\n",
      "    note that versions dont always have to exactly match, but you're on your own if they don't\n",
      "\n",
      "2.  fully define the classpath yourself by overwriting comets.JAVA_CLASSPATH\n",
      "       look at the current comets.JAVA_CLASSPATH to see how this should look.\n",
      "\n",
      "Running COMETS simulation ...\n"
     ]
    }
   ],
   "source": [
    "layout, params = c.chemostat([galE_comets, lcts_comets], comets_media, dilution_rate)\n",
    "# we can still adjust the parameters as desired.\n",
    "params.all_params[\"timeStep\"] = 0.1 # hours\n",
    "params.all_params[\"maxSpaceBiomass\"] = 10. # gDW\n",
    "params.all_params[\"maxCycles\"] = 2000 # duration of simulation in time steps\n",
    "params.all_params[\"writeSpecificMediaLog\"] = True\n",
    "params.all_params[\"specificMediaLogRate\"] = 1 # time steps\n",
    "params.all_params[\"specificMedia\"] = \"lcts_e,gal_e\" # metabolites to track\n",
    "# then we make the simulation object and run as before\n",
    "sim = c.comets(layout, params)\n",
    "sim.set_classpath(\"concurrent\", \"/opt/colt/lib/concurrent.jar\")\n",
    "sim.set_classpath(\"colt\", \"/opt/colt/lib/colt.jar\")\n",
    "sim.set_classpath(\"lang3\", \"/opt/commons-lang3-3.9/commons-lang3-3.9.jar\")\n",
    "sim.set_classpath(\"jmatio\",\"/opt/jmatio/lib/jmatio.jar\")\n",
    "sim.set_classpath(\"math3\",\"/opt/commons-math3-3.6.1/commons-math3-3.6.1.jar\")\n",
    "sim.set_classpath(\"bin\",\"/home/jeremy/Dropbox/work_related/harcombe_lab/segre/jars/comets_2.8.2.jar\")\n",
    "sim.set_classpath(\"gurobi\",\"/opt/gurobi900/linux64/lib/gurobi.jar\")\n",
    "sim.run()\n",
    "sim.total_biomass.plot(x = \"cycle\")"
   ]
  },
  {
   "cell_type": "code",
   "execution_count": null,
   "metadata": {},
   "outputs": [],
   "source": []
  }
 ],
 "metadata": {
  "kernelspec": {
   "display_name": "Python 3",
   "language": "python",
   "name": "python3"
  },
  "language_info": {
   "codemirror_mode": {
    "name": "ipython",
    "version": 3
   },
   "file_extension": ".py",
   "mimetype": "text/x-python",
   "name": "python",
   "nbconvert_exporter": "python",
   "pygments_lexer": "ipython3",
   "version": "3.6.10"
  }
 },
 "nbformat": 4,
 "nbformat_minor": 4
}
