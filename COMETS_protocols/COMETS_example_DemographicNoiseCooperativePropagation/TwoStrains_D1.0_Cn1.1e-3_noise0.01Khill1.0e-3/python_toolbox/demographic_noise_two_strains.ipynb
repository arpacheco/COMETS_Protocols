{
 "cells": [
  {
   "cell_type": "markdown",
   "metadata": {},
   "source": [
    "**Modeling growth and propagation of bacterial colonies on flat surfaces.**\n",
    "\n",
    "This protocol replicates the main text protocol that simulates demographic noise which causes spatial segregation of expanding, equally-fit colonies. "
   ]
  },
  {
   "cell_type": "code",
   "execution_count": 1,
   "metadata": {},
   "outputs": [],
   "source": [
    "import cobra\n",
    "import cobra.test # for the ijo1366 model\n",
    "import sys\n",
    "import copy\n",
    "import numpy as np\n",
    "sys.path.append(\"/home/jeremy/Dropbox/work_related/harcombe_lab/segre/cometspy\")\n",
    "import cometspy as c"
   ]
  },
  {
   "cell_type": "markdown",
   "metadata": {},
   "source": [
    "We will use the E. coli core model."
   ]
  },
  {
   "cell_type": "code",
   "execution_count": 2,
   "metadata": {},
   "outputs": [],
   "source": [
    "ecoli = cobra.test.create_test_model(\"textbook\")"
   ]
  },
  {
   "cell_type": "markdown",
   "metadata": {},
   "source": [
    "We will now convert this into a COMETS model, and set two parameter options: the demographic noise parameter, which is called \"neutral drift,\" and convection-based motion parameters. "
   ]
  },
  {
   "cell_type": "code",
   "execution_count": 10,
   "metadata": {},
   "outputs": [
    {
     "name": "stdout",
     "output_type": "stream",
     "text": [
      "Note: for non-linear diffusion parameters to function,\n",
      "params.all_params['biomassMotionStyle'] = 'ConvNonlin' Diffusion 2D'\n",
      "must also be set\n"
     ]
    }
   ],
   "source": [
    "grid_size = 40\n",
    "ecoli_comets = c.model(ecoli)\n",
    "ecoli_comets.reactions.loc[ecoli_comets.reactions.EXCH, \"LB\"] = -1000\n",
    "ecoli_comets.add_nonlinear_diffusion_parameters(convNonlinDiffZero = 0.,\n",
    "                                    convNonlinDiffN = 6.e-6,\n",
    "                                    convNonlinDiffExponent = 1.0,\n",
    "                                    convNonlinDiffHillN = 2.,\n",
    "                                    convNonlinDiffHillK = 0.001)\n",
    "ecoli_comets.add_neutral_drift_parameter(0.01)"
   ]
  },
  {
   "cell_type": "markdown",
   "metadata": {},
   "source": [
    "Let's make an exact copy of the ecoli comets model."
   ]
  },
  {
   "cell_type": "code",
   "execution_count": 31,
   "metadata": {},
   "outputs": [],
   "source": [
    "import random\n",
    "\n",
    "ecoli_comets2 = copy.copy(ecoli_comets)\n",
    "ecoli_comets2.id = \"e_coli_core2\"\n",
    "\n",
    "ecoli_comets.initial_pop = [[x, 0, np.random.normal(6.4e-5, 1e-6)] for x in range(grid_size)]\n",
    "ecoli_comets2.initial_pop = [[x, 0, np.random.normal(6.4e-5, 1e-6)] for x in range(grid_size)]\n"
   ]
  },
  {
   "cell_type": "markdown",
   "metadata": {},
   "source": [
    "This simulation will be of a single, centered colony on a 100x100 grid. carbon will be spread homogenously, and be fixed at initial concentration along one end."
   ]
  },
  {
   "cell_type": "code",
   "execution_count": 32,
   "metadata": {},
   "outputs": [],
   "source": [
    "ly = c.layout([ecoli_comets, ecoli_comets2])\n",
    "ly.grid = [grid_size, grid_size]\n",
    "ly.set_specific_metabolite(\"glc__D_e\", 2.2e-3)\n",
    "ly.set_specific_metabolite(\"h2o_e\", 1000)\n",
    "ly.set_specific_metabolite(\"nh4_e\", 1000)\n",
    "ly.set_specific_metabolite(\"o2_e\", 1000)\n",
    "ly.set_specific_metabolite(\"pi_e\", 1000)\n",
    "ly.set_specific_metabolite(\"h_e\", 1000)\n",
    "\n",
    "for x in range(grid_size):\n",
    "    ly.set_specific_static_at_location(\"glc__D_e\", (x, grid_size-1), 1.1e-3)\n",
    "    "
   ]
  },
  {
   "cell_type": "markdown",
   "metadata": {},
   "source": [
    "The main parameter we need to set is biomassmotionstyle, which must be set to \"ConvNonlin Diffusion 2D\".  Then, to capture the spatial information, we'll also log biomass (instead of just total biomass). Finally, we'll also adjust a handful of other parameters. These are stored in the dictionary all_params."
   ]
  },
  {
   "cell_type": "code",
   "execution_count": 33,
   "metadata": {},
   "outputs": [],
   "source": [
    "p = c.params()\n",
    "\n",
    "cycles = 1000\n",
    "\n",
    "p.all_params[\"biomassMotionStyle\"] = \"ConvNonlin Diffusion 2D\"\n",
    "p.all_params[\"writeBiomassLog\"] = True\n",
    "p.all_params[\"BiomassLogRate\"] = cycles\n",
    "p.all_params[\"maxCycles\"] = cycles\n",
    "p.all_params[\"timeStep\"] = 0.05\n",
    "p.all_params[\"spaceWidth\"] = 0.01\n",
    "p.all_params[\"defaultDiffConst\"] = 6.e-6\n",
    "p.all_params[\"maxSpaceBiomass\"] = 1000000\n",
    "p.all_params[\"minSpaceBiomass\"] = 1.0e-9\n",
    "p.all_params[\"allowCellOverlap\"] = True\n",
    "p.all_params[\"growthDiffRate\"] = 0\n",
    "p.all_params[\"defaultVmax\"] = 18.5\n",
    "p.all_params[\"defaultKm\"] = 0.000015\n",
    "p.all_params[\"defaultHill\"] = 1\n",
    "p.all_params[\"exchangestyle\"] = \"Monod Style\""
   ]
  },
  {
   "cell_type": "markdown",
   "metadata": {},
   "source": [
    "Now we make a simulation object and run it.  This can take awhile."
   ]
  },
  {
   "cell_type": "code",
   "execution_count": 34,
   "metadata": {},
   "outputs": [
    {
     "name": "stdout",
     "output_type": "stream",
     "text": [
      "Warning: java class libraries cannot be found\n",
      "These are the expected locations for dependencies:\n",
      "Dependency \t\t\t expected path\n",
      "__________ \t\t\t _____________\n",
      "gurobi\t\t\t/opt/gurobi900/linux64/gurobi.jar\n",
      "junit\t\t\t/Dropbox/work_related/harcombe_lab/segre/comets/bin/lib/junit/junit-4.12.jar\n",
      "hamcrest\t\t\t/Dropbox/work_related/harcombe_lab/segre/comets/bin/lib/junit/hamcrest-core-1.3.jar\n",
      "jogl_all\t\t\t/Dropbox/work_related/harcombe_lab/segre/comets/bin/lib/jogl/jogamp-all-platforms/jar/jogl-all.jar\n",
      "gluegen_rt\t\t\t/Dropbox/work_related/harcombe_lab/segre/comets/bin/lib/jogl/jogamp-all-platforms/jar/gluegen-rt.jar\n",
      "gluegen\t\t\t/Dropbox/work_related/harcombe_lab/segre/comets/bin/lib/jogl/jogamp-all-platforms/jar/gluegen.jar\n",
      "gluegen_rt_natives\t\t\t/Dropbox/work_related/harcombe_lab/segre/comets/bin/lib/jogl/jogamp-all-platforms/jar/gluegen-rt-natives-linux-amd64.jar\n",
      "jogl_all_natives\t\t\t/Dropbox/work_related/harcombe_lab/segre/comets/bin/lib/jogl/jogamp-all-platforms/jar/jogl-all-natives-linux-amd64.jar\n",
      "jmatio\t\t\t/Dropbox/work_related/harcombe_lab/segre/comets/bin/lib/JMatIO/lib/jamtio.jar\n",
      "jmat\t\t\t/Dropbox/work_related/harcombe_lab/segre/comets/bin/lib/JMatIO/JMatIO-041212/lib/jmatio.jar\n",
      "concurrent\t\t\t/Dropbox/work_related/harcombe_lab/segre/comets/bin/lib/colt/lib/concurrent.jar\n",
      "colt\t\t\t/Dropbox/work_related/harcombe_lab/segre/comets/bin/lib/colt/lib/colt.jar\n",
      "lang3\t\t\t/Dropbox/work_related/harcombe_lab/segre/comets/bin/lib/commons-lang3-3.7/commons-lang3-3.7.jar\n",
      "math3\t\t\t/Dropbox/work_related/harcombe_lab/segre/comets/bin/lib/commons-math3-3.6.1/commons-math3-3.6.1.jar\n",
      "bin\t\t\t/Dropbox/work_related/harcombe_lab/segre/comets/bin/bin/comets_evo.jar\n",
      "\n",
      "  You have two options to fix this problem:\n",
      "1.  set each class path correctly by doing:\n",
      "    comets.set_classpath(libraryname, path)\n",
      "    e.g.   comets.set_classpath('hamcrest', '/home/chaco001/comets/junit/hamcrest-core-1.3.jar')\n",
      "\n",
      "    note that versions dont always have to exactly match, but you're on your own if they don't\n",
      "\n",
      "2.  fully define the classpath yourself by overwriting comets.JAVA_CLASSPATH\n",
      "       look at the current comets.JAVA_CLASSPATH to see how this should look.\n",
      "\n",
      "Running COMETS simulation ...\n",
      "Done!\n"
     ]
    }
   ],
   "source": [
    "sim = c.comets(ly, p)\n",
    "# this should all be removable once the installer is made with dependencies in a predictable location\n",
    "sim.set_classpath(\"concurrent\", \"/opt/colt/lib/concurrent.jar\")\n",
    "sim.set_classpath(\"colt\", \"/opt/colt/lib/colt.jar\")\n",
    "sim.set_classpath(\"lang3\", \"/opt/commons-lang3-3.9/commons-lang3-3.9.jar\")\n",
    "sim.set_classpath(\"jmatio\",\"/opt/jmatio/lib/jmatio.jar\")\n",
    "sim.set_classpath(\"math3\",\"/opt/commons-math3-3.6.1/commons-math3-3.6.1.jar\")\n",
    "sim.set_classpath(\"bin\",\"/home/jeremy/Dropbox/work_related/harcombe_lab/segre/jars/comets_2.10.0.jar\")\n",
    "sim.set_classpath(\"gurobi\",\"/opt/gurobi900/linux64/lib/gurobi.jar\")\n",
    "sim.set_classpath(\"jdistlib\", \"/opt/jdistlib-0.4.5-bin.jar\")\n",
    "sim.run(False)"
   ]
  },
  {
   "cell_type": "markdown",
   "metadata": {},
   "source": [
    "Now let's plot the results. We use the get_biomass_image helper function and then matplotlib to do the plotting."
   ]
  },
  {
   "cell_type": "code",
   "execution_count": 38,
   "metadata": {},
   "outputs": [
    {
     "data": {
      "text/plain": [
       "<matplotlib.image.AxesImage at 0x7fba555da860>"
      ]
     },
     "execution_count": 38,
     "metadata": {},
     "output_type": "execute_result"
    },
    {
     "data": {
      "image/png": "[encoded data removed]",
      "text/plain": [
       "<Figure size 432x288 with 1 Axes>"
      ]
     },
     "metadata": {
      "needs_background": "light"
     },
     "output_type": "display_data"
    }
   ],
   "source": [
    "im = sim.get_biomass_image('e_coli_core', cycles).astype(float)\n",
    "im = im / np.max(im)\n",
    "im2 = sim.get_biomass_image('e_coli_core2',cycles).astype(float)\n",
    "im2 = im2 / np.max(im2)\n",
    "final = np.zeros((grid_size,grid_size,3))\n",
    "final[:,:,1] = im\n",
    "final[:,:,2] = im2\n",
    "from matplotlib import pyplot as plt\n",
    "plt.imshow(final)"
   ]
  },
  {
   "cell_type": "code",
   "execution_count": null,
   "metadata": {},
   "outputs": [],
   "source": []
  }
 ],
 "metadata": {
  "kernelspec": {
   "display_name": "Python 3",
   "language": "python",
   "name": "python3"
  },
  "language_info": {
   "codemirror_mode": {
    "name": "ipython",
    "version": 3
   },
   "file_extension": ".py",
   "mimetype": "text/x-python",
   "name": "python",
   "nbconvert_exporter": "python",
   "pygments_lexer": "ipython3",
   "version": "3.6.10"
  }
 },
 "nbformat": 4,
 "nbformat_minor": 4
}
