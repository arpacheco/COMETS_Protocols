{
 "cells": [
  {
   "cell_type": "markdown",
   "metadata": {},
   "source": [
    "## Modelling the diurnal cycle\n",
    "\n",
    "COMETS can simulate periodically changing environments, where the periodic function can be either a step function, a sine function or a half sine function. The most obvious use case for this functionality is to study how the metabolism of photosynthetic organisms change during the day / night cycle with varying sunlight (photons) and how this affects the microbes. Here we simulate one such experiment with a genome-scale model of Prochlorococcus, the most abundant marine photoautotroph.\n",
    "\n",
    "### Import the models and medium conditions, define light and light absorption parameters and initialize the COMETS layout\n",
    "\n",
    "The first step is to load the Prochlorococcus model iSO595."
   ]
  },
  {
   "cell_type": "code",
   "execution_count": 1,
   "metadata": {},
   "outputs": [
    {
     "name": "stdout",
     "output_type": "stream",
     "text": [
      "Using license file /home/djordje/gurobi.lic\n",
      "Academic license - for non-commercial use only\n"
     ]
    }
   ],
   "source": [
    "import comets as c\n",
    "import math\n",
    "import matplotlib.pyplot as plt\n",
    "\n",
    "# Load Prochlorococcus Genome-scale model\n",
    "model = c.model('models/iSO595v6.xml');\n",
    "model.initial_pop = [1, 1, 1e-7]\n",
    "model.obj_style = 'MAX_OBJECTIVE_MIN_TOTAL'"
   ]
  },
  {
   "cell_type": "markdown",
   "metadata": {},
   "source": [
    "We now define the parameters related to light absorption and use these to calculate a model-specific absorption coefficient. We assume a monochromatic light source at 680 nm, but it is possible to extend these calculations to a light source with a spectral distribution. All parameters are acquired from the literature(refs 52, 53, 54, 55, 56, 57). "
   ]
  },
  {
   "cell_type": "code",
   "execution_count": 2,
   "metadata": {},
   "outputs": [],
   "source": [
    "# The ratio of chlorophyll is extracted from the model biomass-function\n",
    "ci_dvchla = 0.016                 # gr/gDW (Partensky 1993 / Casey 2016)\n",
    "ci_dvchlb = 0.0013                # gr/gDW (Partensky 1993 / Casey 2016)\n",
    "absorption_dvchla_680 = 0.0184    # m^2 mg^-1 (Bricaud et al., 2004)\n",
    "absorption_dvchlb_680 = 0.0018    # m^2 mg^-1 (Bricaud et al., 2004)\n",
    "absorption_water_680 = 0.465      # m^-1 (Pope and Fry, 1997)\n",
    "wavelength = 680                  # nm"
   ]
  },
  {
   "cell_type": "markdown",
   "metadata": {},
   "source": [
    "Calculate the packaging effect. This is taking into account that the light-absorbing pigments are not dissolved in the media, but contained within discrete cells 58. The packaging effect approaches 0 asymptotically for large cells. Depending on the accuracy needed in the calculation the packaging effect can be assumed  to be close to 1 for very small cells, such as Prochlorococcus 58."
   ]
  },
  {
   "cell_type": "code",
   "execution_count": 3,
   "metadata": {},
   "outputs": [],
   "source": [
    "diameter = 0.6                    # um (Morel et al., 1993)\n",
    "n_dash = 13.77*1e-3               # imaginary part of refractive index at 675 nm (Stramski et al. 2001)\n",
    "size_parameter_alpha = diameter*1e3*math.pi/wavelength    # The ratio between the cell size and wavelength\n",
    "rho_dash = 4*size_parameter_alpha*n_dash\n",
    "Q_a = 1+(2*math.exp(-rho_dash)/rho_dash)+2*(math.exp(-rho_dash)-1)/rho_dash**2\n",
    "packaging_effect = 1.5*Q_a/rho_dash\n",
    "\n",
    "# Calculate the Prochlorococcus specific biomass absorption coefficient in units m2/ g DW biomass\n",
    "absorption_biomass = packaging_effect*(ci_dvchla*1e3*absorption_dvchla_680+ci_dvchlb*1e3*absorption_dvchlb_680)"
   ]
  },
  {
   "cell_type": "markdown",
   "metadata": {},
   "source": [
    "Set the calculated absorption rate as a model parameter for the exchange reaction of light. `LightEX` is the exchange reaction for photons in the model."
   ]
  },
  {
   "cell_type": "code",
   "execution_count": 4,
   "metadata": {},
   "outputs": [],
   "source": [
    "model.add_light('LightEX', absorption_biomass, absorption_water_680)"
   ]
  },
  {
   "cell_type": "markdown",
   "metadata": {},
   "source": [
    "Now create the layout and define concentration of metabolites in the growth medium. We here set the concentration of all essential metabolites except photons to 1000 mmol and activate the `static` flag, because we want the growth to be only limited by the light conditions"
   ]
  },
  {
   "cell_type": "code",
   "execution_count": 5,
   "metadata": {},
   "outputs": [],
   "source": [
    "# Make layout with the COMETS toolbox\n",
    "layout = c.layout(model);\n",
    "\n",
    "# Define medium\n",
    "metabs = ['Ammonia[e]', 'HCO3[e]', 'CO2[e]', 'H[e]', 'Orthophosphate[e]', 'H2O[e]', 'Cadmium[e]', \n",
    "          'Calcium_cation[e]', 'Chloride_ion[e]', 'Cobalt_ion[e]', 'Copper[e]', 'Fe2[e]', \n",
    "          'Magnesium_cation[e]', 'Molybdenum[e]', 'K[e]','Selenate[e]', 'Sodium_cation[e]', \n",
    "          'Strontium_cation[e]', 'Sulfate[e]', 'Zn2[e]', 'Hydrogen_sulfide[e]']\n",
    "\n",
    "for i in metabs:\n",
    "    layout.set_specific_metabolite(i, 1000)\n",
    "    layout.set_specific_static(i, 1000)"
   ]
  },
  {
   "cell_type": "markdown",
   "metadata": {},
   "source": [
    "### Define light conditions. \n",
    "Light is modelled as individual photons the value is the number of photons (in mmol) absorbed by the organism at each timepoint. While it is treated like any other metabolite, it is more reasonable to consider it light intensity than a concentration which the other compounds in the media are. To model natural light conditions we use the periodic function called half sin which is equal to $max(f(t), 0) $ where:\n",
    "\n",
    "$$\n",
    "f(t) = A\\sin(\\omega t+\\phi)+C\n",
    "$$\n",
    "\n",
    "Here A is the amplitude, $\\omega$ is the angular frequency ($\\omega=2\\pi/T$), T the period, $\\phi$ the phase and C the offset. Other periodic functions are available: step function, sine and cosine. In this example we define global light conditions. We here define the period to 24 hours with an amplitude of 0.04 mmol photons per meter squared per second."
   ]
  },
  {
   "cell_type": "code",
   "execution_count": 6,
   "metadata": {},
   "outputs": [],
   "source": [
    "# Set light conditions by defining parameters\n",
    "layout.set_global_periodic_media(metabolite='Photon[e]', function='half_sin', amplitude=0.04,\n",
    "                                 period=24, phase=0, offset=0)"
   ]
  },
  {
   "cell_type": "markdown",
   "metadata": {},
   "source": [
    "### Set simulation parameters\n",
    "\n",
    "Now set relevant simulation parameters"
   ]
  },
  {
   "cell_type": "code",
   "execution_count": 7,
   "metadata": {},
   "outputs": [],
   "source": [
    "# Set simulation parameters\n",
    "sim_params = c.params()\n",
    "\n",
    "sim_params.all_params['maxCycles'] = 480\n",
    "sim_params.all_params['timeStep'] = 0.1\n",
    "sim_params.all_params['defaultDiffConst'] = 0"
   ]
  },
  {
   "cell_type": "markdown",
   "metadata": {},
   "source": [
    "### Run `COMETS` simulation"
   ]
  },
  {
   "cell_type": "code",
   "execution_count": 10,
   "metadata": {},
   "outputs": [
    {
     "name": "stdout",
     "output_type": "stream",
     "text": [
      "Warning: java class libraries cannot be found\n",
      "These are the expected locations for dependencies:\n",
      "Dependency \t\t\t expected path\n",
      "__________ \t\t\t _____________\n",
      "junit\t\t\t/home/djordje/Dropbox/COMETS_RUN/lib/junit/junit-4.12.jar\n",
      "hamcrest\t\t\t/home/djordje/Dropbox/COMETS_RUN/lib/junit/hamcrest-core-1.3.jar\n",
      "jogl_all\t\t\t/home/djordje/Dropbox/COMETS_RUN/lib/jogl/jogamp-all-platforms/jar/jogl-all.jar\n",
      "gluegen_rt\t\t\t/home/djordje/Dropbox/COMETS_RUN/lib/jogl/jogamp-all-platforms/jar/gluegen-rt.jar\n",
      "gluegen\t\t\t/home/djordje/Dropbox/COMETS_RUN/lib/jogl/jogamp-all-platforms/jar/gluegen.jar\n",
      "gluegen_rt_natives\t\t\t/home/djordje/Dropbox/COMETS_RUN/lib/jogl/jogamp-all-platforms/jar/gluegen-rt-natives-linux-amd64.jar\n",
      "jogl_all_natives\t\t\t/home/djordje/Dropbox/COMETS_RUN/lib/jogl/jogamp-all-platforms/jar/jogl-all-natives-linux-amd64.jar\n",
      "jmatio\t\t\t/home/djordje/Dropbox/COMETS_RUN/lib/JMatIO/lib/jamtio.jar\n",
      "jmat\t\t\t/home/djordje/Dropbox/COMETS_RUN/lib/JMatIO/JMatIO-041212/lib/jmatio.jar\n",
      "concurrent\t\t\t/home/djordje/Dropbox/COMETS_RUN/lib/colt/lib/concurrent.jar\n",
      "colt\t\t\t/home/djordje/Dropbox/COMETS_RUN/lib/colt/lib/colt.jar\n",
      "lang3\t\t\t/home/djordje/Dropbox/COMETS_RUN/lib/commons-lang3-3.7/commons-lang3-3.7.jar\n",
      "math3\t\t\t/home/djordje/Dropbox/COMETS_RUN/lib/commons-math3-3.6.1/commons-math3-3.6.1.jar\n",
      "\n",
      "  You have two options to fix this problem:\n",
      "1.  set each class path correctly by doing:\n",
      "    comets.set_classpath(libraryname, path)\n",
      "    e.g.   comets.set_classpath('hamcrest', '/home/chaco001/comets/junit/hamcrest-core-1.3.jar')\n",
      "\n",
      "    note that versions dont always have to exactly match, but you're on your own if they don't\n",
      "\n",
      "2.  fully define the classpath yourself by overwriting comets.JAVA_CLASSPATH\n",
      "       look at the current comets.JAVA_CLASSPATH to see how this should look.\n",
      "\n",
      "Running COMETS simulation ...\n"
     ]
    },
    {
     "ename": "FileNotFoundError",
     "evalue": "[Errno 2] No such file or directory: 'total_biomass_log_0x7fc692895f28'",
     "output_type": "error",
     "traceback": [
      "\u001b[0;31m---------------------------------------------------------------------------\u001b[0m",
      "\u001b[0;31mFileNotFoundError\u001b[0m                         Traceback (most recent call last)",
      "\u001b[0;32m<ipython-input-10-fd54d1aab3d1>\u001b[0m in \u001b[0;36m<module>\u001b[0;34m()\u001b[0m\n\u001b[1;32m      2\u001b[0m \u001b[0msimulation\u001b[0m \u001b[0;34m=\u001b[0m \u001b[0mc\u001b[0m\u001b[0;34m.\u001b[0m\u001b[0mcomets\u001b[0m\u001b[0;34m(\u001b[0m\u001b[0mlayout\u001b[0m\u001b[0;34m,\u001b[0m \u001b[0msim_params\u001b[0m\u001b[0;34m)\u001b[0m\u001b[0;34m\u001b[0m\u001b[0;34m\u001b[0m\u001b[0m\n\u001b[1;32m      3\u001b[0m \u001b[0msimulation\u001b[0m\u001b[0;34m.\u001b[0m\u001b[0mJAVA_CLASSPATH\u001b[0m \u001b[0;34m=\u001b[0m \u001b[0;34m'/home/djordje/Dropbox/COMETS_RUN/lib/jmatio.jar:/home/djordje/Dropbox/COMETS_RUN/lib/jdistlib-0.4.5-bin.jar:/home/djordje/Dropbox/COMETS_RUN/lib/commons-math3-3.6.1.jar:/home/djordje/Dropbox/COMETS_RUN/lib/commons-lang3-3.9.jar:/home/djordje/Dropbox/COMETS_RUN/lib/colt.jar:/home/djordje/Dropbox/COMETS_RUN/lib/concurrent.jar:/home/djordje/Dropbox/COMETS_RUN/bin/comets_2.8.2.jar:/opt/gurobi901/linux64/lib/gurobi.jar'\u001b[0m\u001b[0;34m\u001b[0m\u001b[0;34m\u001b[0m\u001b[0m\n\u001b[0;32m----> 4\u001b[0;31m \u001b[0msimulation\u001b[0m\u001b[0;34m.\u001b[0m\u001b[0mrun\u001b[0m\u001b[0;34m(\u001b[0m\u001b[0mdelete_files\u001b[0m\u001b[0;34m=\u001b[0m\u001b[0;32mFalse\u001b[0m\u001b[0;34m)\u001b[0m\u001b[0;34m\u001b[0m\u001b[0;34m\u001b[0m\u001b[0m\n\u001b[0m",
      "\u001b[0;32m/home/djordje/Dropbox/projects/COMETS-Python-Toolbox/comets.py\u001b[0m in \u001b[0;36mrun\u001b[0;34m(self, delete_files)\u001b[0m\n\u001b[1;32m   2103\u001b[0m         \u001b[0;32mif\u001b[0m \u001b[0mself\u001b[0m\u001b[0;34m.\u001b[0m\u001b[0mparameters\u001b[0m\u001b[0;34m.\u001b[0m\u001b[0mall_params\u001b[0m\u001b[0;34m[\u001b[0m\u001b[0;34m'writeTotalBiomassLog'\u001b[0m\u001b[0;34m]\u001b[0m\u001b[0;34m:\u001b[0m\u001b[0;34m\u001b[0m\u001b[0;34m\u001b[0m\u001b[0m\n\u001b[1;32m   2104\u001b[0m             tbmf = readlines_file(\n\u001b[0;32m-> 2105\u001b[0;31m                 self.parameters.all_params['TotalBiomassLogName'])\n\u001b[0m\u001b[1;32m   2106\u001b[0m             self.total_biomass = pd.DataFrame([re.split(r'\\t+', x.strip())\n\u001b[1;32m   2107\u001b[0m                                                for x in tbmf],\n",
      "\u001b[0;32m/home/djordje/Dropbox/projects/COMETS-Python-Toolbox/comets.py\u001b[0m in \u001b[0;36mreadlines_file\u001b[0;34m(filename)\u001b[0m\n\u001b[1;32m     53\u001b[0m \u001b[0;34m\u001b[0m\u001b[0m\n\u001b[1;32m     54\u001b[0m \u001b[0;32mdef\u001b[0m \u001b[0mreadlines_file\u001b[0m\u001b[0;34m(\u001b[0m\u001b[0mfilename\u001b[0m\u001b[0;34m)\u001b[0m\u001b[0;34m:\u001b[0m\u001b[0;34m\u001b[0m\u001b[0;34m\u001b[0m\u001b[0m\n\u001b[0;32m---> 55\u001b[0;31m     \u001b[0mf\u001b[0m \u001b[0;34m=\u001b[0m \u001b[0mopen\u001b[0m\u001b[0;34m(\u001b[0m\u001b[0mfilename\u001b[0m\u001b[0;34m,\u001b[0m \u001b[0;34m'r'\u001b[0m\u001b[0;34m)\u001b[0m\u001b[0;34m\u001b[0m\u001b[0;34m\u001b[0m\u001b[0m\n\u001b[0m\u001b[1;32m     56\u001b[0m     \u001b[0mf_lines\u001b[0m \u001b[0;34m=\u001b[0m \u001b[0mf\u001b[0m\u001b[0;34m.\u001b[0m\u001b[0mreadlines\u001b[0m\u001b[0;34m(\u001b[0m\u001b[0;34m)\u001b[0m\u001b[0;34m\u001b[0m\u001b[0;34m\u001b[0m\u001b[0m\n\u001b[1;32m     57\u001b[0m     \u001b[0mf\u001b[0m\u001b[0;34m.\u001b[0m\u001b[0mclose\u001b[0m\u001b[0;34m(\u001b[0m\u001b[0;34m)\u001b[0m\u001b[0;34m\u001b[0m\u001b[0;34m\u001b[0m\u001b[0m\n",
      "\u001b[0;31mFileNotFoundError\u001b[0m: [Errno 2] No such file or directory: 'total_biomass_log_0x7fc692895f28'"
     ]
    }
   ],
   "source": [
    "# Runs comets and produce the output files mediaLog.m and biomassLog.m\n",
    "simulation = c.comets(layout, sim_params)\n",
    "simulation.JAVA_CLASSPATH = '/home/djordje/Dropbox/COMETS_RUN/lib/jmatio.jar:/home/djordje/Dropbox/COMETS_RUN/lib/jdistlib-0.4.5-bin.jar:/home/djordje/Dropbox/COMETS_RUN/lib/commons-math3-3.6.1.jar:/home/djordje/Dropbox/COMETS_RUN/lib/commons-lang3-3.9.jar:/home/djordje/Dropbox/COMETS_RUN/lib/colt.jar:/home/djordje/Dropbox/COMETS_RUN/lib/concurrent.jar:/home/djordje/Dropbox/COMETS_RUN/bin/comets_2.8.2.jar:/opt/gurobi901/linux64/lib/gurobi.jar'\n",
    "simulation.run(delete_files=False)"
   ]
  },
  {
   "cell_type": "code",
   "execution_count": 11,
   "metadata": {},
   "outputs": [
    {
     "name": "stdout",
     "output_type": "stream",
     "text": [
      "-script\n",
      "running script file: /home/djordje/Dropbox/projects/COMETS-Python-Toolbox/.current_script\n",
      "Loading layout file '/home/djordje/Dropbox/projects/COMETS-Python-Toolbox/.current_layout'...\n",
      "Found 1 model files!\n",
      "Loading '/home/djordje/Dropbox/projects/COMETS-Python-Toolbox/COBRAModel.cmd' ...\n",
      "Loading '/home/djordje/Dropbox/projects/COMETS-Python-Toolbox/COBRAModel.cmd' ...\n",
      "Error in model file '/home/djordje/Dropbox/projects/COMETS-Python-Toolbox/COBRAModel.cmd': edu.bu.segrelab.comets.exception.ModelFileException: The LIGHT parameter at line 6182 should be followed by its surface to weight ratio in m^2 per gDW\n",
      "Num media101\n",
      "76 half_sin 0.04 24 0 0\n",
      "Parameters: \n",
      "0.04\n",
      "24.0\n",
      "0.0\n",
      "0.0\n",
      "Constructing world...\n",
      "Exception in thread \"main\" java.lang.NullPointerException\n",
      "\tat edu.bu.segrelab.comets.fba.FBAWorld.changeModelsInWorld(FBAWorld.java:919)\n",
      "\tat edu.bu.segrelab.comets.fba.FBAWorld.<init>(FBAWorld.java:211)\n",
      "\tat edu.bu.segrelab.comets.fba.FBACometsLoader.loadLayoutFile(FBACometsLoader.java:657)\n",
      "\tat edu.bu.segrelab.comets.Comets.loadLayoutFile(Comets.java:1579)\n",
      "\tat edu.bu.segrelab.comets.Comets.runScript(Comets.java:463)\n",
      "\tat edu.bu.segrelab.comets.Comets.<init>(Comets.java:233)\n",
      "\tat edu.bu.segrelab.comets.Comets.main(Comets.java:2044)\n",
      "\n"
     ]
    }
   ],
   "source": [
    "print(simulation.run_output)"
   ]
  },
  {
   "cell_type": "markdown",
   "metadata": {},
   "source": [
    "### Plot results\n",
    "\n",
    "Load the results using the biomass and media output dataframes"
   ]
  },
  {
   "cell_type": "code",
   "execution_count": null,
   "metadata": {},
   "outputs": [],
   "source": []
  }
 ],
 "metadata": {
  "kernelspec": {
   "display_name": "Python 3",
   "language": "python",
   "name": "python3"
  },
  "language_info": {
   "codemirror_mode": {
    "name": "ipython",
    "version": 3
   },
   "file_extension": ".py",
   "mimetype": "text/x-python",
   "name": "python",
   "nbconvert_exporter": "python",
   "pygments_lexer": "ipython3",
   "version": "3.6.9"
  }
 },
 "nbformat": 4,
 "nbformat_minor": 2
}
