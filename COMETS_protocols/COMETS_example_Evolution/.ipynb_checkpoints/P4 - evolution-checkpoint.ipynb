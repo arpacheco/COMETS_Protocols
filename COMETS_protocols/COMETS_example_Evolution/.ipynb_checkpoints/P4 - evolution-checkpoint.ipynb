{
 "cells": [
  {
   "cell_type": "markdown",
   "metadata": {},
   "source": [
    "## Simulating evolution with COMETS\n",
    "\n",
    "This notebook shows a short sample of an evo-COMETS simulation. We will start with an E. coli model that contains a set of additional reactions from a universal model (see Methods) that are potential reactions that can be added to the genome by horizontal gene transfer."
   ]
  },
  {
   "cell_type": "markdown",
   "metadata": {},
   "source": [
    "Start by setting up the layout, which is again a well mixed environment with a glucose minimal media.  "
   ]
  },
  {
   "cell_type": "code",
   "execution_count": 1,
   "metadata": {},
   "outputs": [
    {
     "name": "stdout",
     "output_type": "stream",
     "text": [
      "building empty layout model\n",
      "models will need to be added with layout.add_model()\n",
      "Warning: The added metabolite (glc__D_e) is notable to be taken up by any of the current models\n"
     ]
    }
   ],
   "source": [
    "import comets as c\n",
    "import os\n",
    "import pandas as pd\n",
    "import matplotlib.pyplot as plt\n",
    "\n",
    "# generate layout\n",
    "world = c.layout()\n",
    "world.set_specific_metabolite('glc__D_e', 0.01)"
   ]
  },
  {
   "cell_type": "markdown",
   "metadata": {},
   "source": [
    "Add trace metabolites (ions, metals etc) in unlimited amounts"
   ]
  },
  {
   "cell_type": "code",
   "execution_count": 2,
   "metadata": {},
   "outputs": [],
   "source": [
    "# Add typical trace metabolites and oxygen coli as static\n",
    "trace_metabolites = ['ca2_e',\n",
    "                     'cl_e',\n",
    "                     'cobalt2_e',\n",
    "                     'cu2_e',\n",
    "                     'fe2_e',\n",
    "                     'fe3_e',\n",
    "                     'h_e',\n",
    "                     'k_e',\n",
    "                     'h2o_e',\n",
    "                     'mg2_e',\n",
    "                     'mn2_e',\n",
    "                     'mobd_e',\n",
    "                     'na1_e',\n",
    "                     'ni2_e',\n",
    "                     'nh4_e',\n",
    "                     'o2_e',\n",
    "                     'pi_e',\n",
    "                     'so4_e',\n",
    "                     'zn2_e']\n",
    "        \n",
    "for met in trace_metabolites:\n",
    "    newrow = {'metabolite': met,\n",
    "              'g_refresh': 0,\n",
    "              'g_static': 1,\n",
    "              'g_static_val': 1000,\n",
    "              'init_amount': 1000,\n",
    "              'diff_c': world.default_diff_c}\n",
    "\n",
    "    newrow = pd.DataFrame([newrow], columns=newrow.keys())\n",
    "    world.media = pd.concat([world.media, newrow], axis=0, sort=False) "
   ]
  },
  {
   "cell_type": "markdown",
   "metadata": {},
   "source": [
    "Load the model and add it to the layout"
   ]
  },
  {
   "cell_type": "code",
   "execution_count": 3,
   "metadata": {},
   "outputs": [
    {
     "ename": "AttributeError",
     "evalue": "'str' object has no attribute 'id'",
     "output_type": "error",
     "traceback": [
      "\u001b[0;31m---------------------------------------------------------------------------\u001b[0m",
      "\u001b[0;31mAttributeError\u001b[0m                            Traceback (most recent call last)",
      "\u001b[0;32m<ipython-input-3-1a2646484bfe>\u001b[0m in \u001b[0;36m<module>\u001b[0;34m\u001b[0m\n\u001b[1;32m      4\u001b[0m \u001b[0;34m\u001b[0m\u001b[0m\n\u001b[1;32m      5\u001b[0m \u001b[0;32mfor\u001b[0m \u001b[0mi\u001b[0m \u001b[0;32min\u001b[0m \u001b[0mwt\u001b[0m\u001b[0;34m.\u001b[0m\u001b[0mreactions\u001b[0m\u001b[0;34m:\u001b[0m\u001b[0;34m\u001b[0m\u001b[0m\n\u001b[0;32m----> 6\u001b[0;31m     \u001b[0;32mif\u001b[0m \u001b[0;34m'EX_'\u001b[0m \u001b[0;32min\u001b[0m \u001b[0mi\u001b[0m\u001b[0;34m.\u001b[0m\u001b[0mid\u001b[0m\u001b[0;34m:\u001b[0m\u001b[0;34m\u001b[0m\u001b[0m\n\u001b[0m\u001b[1;32m      7\u001b[0m         \u001b[0mi\u001b[0m\u001b[0;34m.\u001b[0m\u001b[0mlower_bound\u001b[0m \u001b[0;34m=\u001b[0m\u001b[0;34m-\u001b[0m\u001b[0;36m1000.0\u001b[0m\u001b[0;34m\u001b[0m\u001b[0m\n\u001b[1;32m      8\u001b[0m \u001b[0;34m\u001b[0m\u001b[0m\n",
      "\u001b[0;31mAttributeError\u001b[0m: 'str' object has no attribute 'id'"
     ]
    }
   ],
   "source": [
    "# load model \n",
    "wt = c.model('test_models/UiJO1366_nonTrimmed.cmd')\n",
    "wt.initial_pop = [0, 0, 5e-8]\n",
    "\n",
    "for i in wt.reactions:\n",
    "    if 'EX_' in i.id:\n",
    "        i.lower_bound =-1000.0\n",
    "        \n",
    "world.add_model(wt)"
   ]
  },
  {
   "cell_type": "markdown",
   "metadata": {},
   "source": [
    "Create a params object, and modify the needed parameters. Specifically, this example simulation consists of 10 transfers every 24h, which is roughly a three year experimental evolution. The mutation rate will be 1e-6 for both additions and deletions. The \"cellSize\" parameter sets the amount of biomass that appears when a mutant occurs (which should be one cell). Here we set it bigger than one cell for visualization purposes. We also set a cost term for genome size of 5e-8 (Methods)."
   ]
  },
  {
   "cell_type": "code",
   "execution_count": null,
   "metadata": {},
   "outputs": [],
   "source": [
    "# .. load parameters and layout from file\n",
    "evo_params = c.params()\n",
    "\n",
    "evo_params.all_params['timeStep'] = 0.1 \n",
    "\n",
    "evo_params.all_params['maxCycles'] = 2400 #simulate 10 serial transfers of 24h each (timeStep = 0.1)\n",
    "evo_params.all_params['batchDilution'] = True\n",
    "evo_params.all_params['dilFactor'] = 0.01\n",
    "evo_params.all_params['dilTime'] = 24\n",
    "\n",
    "evo_params.all_params['evolution'] = True\n",
    "evo_params.all_params['mutRate'] = 1e-5\n",
    "evo_params.all_params['addRate'] = 1e-5\n",
    "evo_params.all_params['cellSize'] = 1e-9 # cell size should always be higher than max. cell biomass \n",
    "#evo_params.all_params['minCellBiomass'] = 2.5e-13 \n",
    "\n",
    "evo_params.all_params['costlyGenome'] = True\n",
    "evo_params.all_params['geneFractionalCost'] = 5e-8\n",
    "\n",
    "evo_params.all_params['BiomassLogRate'] = 1 #2400"
   ]
  },
  {
   "cell_type": "markdown",
   "metadata": {},
   "source": [
    "We now create the COMETS object using the above layout and parameters, and run the simulation. "
   ]
  },
  {
   "cell_type": "code",
   "execution_count": null,
   "metadata": {},
   "outputs": [],
   "source": [
    "# create comets object from the loaded parameters and layout \n",
    "evo_simulation = c.comets(world, evo_params)\n",
    "\n",
    "import datetime\n",
    "print(datetime.datetime.now())\n",
    "\n",
    "# run comets simulation\n",
    "evo_simulation.run()\n",
    "\n",
    "print(datetime.datetime.now())"
   ]
  },
  {
   "cell_type": "markdown",
   "metadata": {},
   "source": [
    "Finally, we can visualize our evolution over time using the biomass output data frame."
   ]
  },
  {
   "cell_type": "code",
   "execution_count": null,
   "metadata": {},
   "outputs": [],
   "source": [
    "fig, ax = plt.subplots(figsize=(15, 5))\n",
    "\n",
    "for key, grp in evo_simulation.biomass.groupby(['species']):\n",
    "    ax = grp.plot(ax=ax, kind='line', x='Cycle', y='biomass')\n",
    "ax.get_legend().remove()\n",
    "plt.yscale('log')\n",
    "plt.show()"
   ]
  },
  {
   "cell_type": "markdown",
   "metadata": {},
   "source": [
    "In order to analyze the results, it is also helpful to visualize the genotypes data frame, which contains all the mutants that ever appeared during the simulation. The data frame contains three columns: The ancestor, the mutation, and the name of the resulting genotype, which is assigned as a random hash."
   ]
  },
  {
   "cell_type": "code",
   "execution_count": null,
   "metadata": {},
   "outputs": [],
   "source": [
    "evo_simulation.genotypes"
   ]
  },
  {
   "cell_type": "code",
   "execution_count": null,
   "metadata": {},
   "outputs": [],
   "source": [
    "evo_simulation.biomass"
   ]
  }
 ],
 "metadata": {
  "kernelspec": {
   "display_name": "Python 3",
   "language": "python",
   "name": "python3"
  },
  "language_info": {
   "codemirror_mode": {
    "name": "ipython",
    "version": 3
   },
   "file_extension": ".py",
   "mimetype": "text/x-python",
   "name": "python",
   "nbconvert_exporter": "python",
   "pygments_lexer": "ipython3",
   "version": "3.6.9"
  }
 },
 "nbformat": 4,
 "nbformat_minor": 2
}
