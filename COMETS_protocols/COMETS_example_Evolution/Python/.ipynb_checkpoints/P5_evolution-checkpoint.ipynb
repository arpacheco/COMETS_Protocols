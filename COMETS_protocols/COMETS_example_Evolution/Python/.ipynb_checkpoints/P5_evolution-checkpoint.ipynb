{
 "cells": [
  {
   "cell_type": "markdown",
   "metadata": {},
   "source": [
    "## Simulating evolution with COMETS\n",
    "\n",
    "`COMETS` is able to perform simulations that include the appearance of mutants containing reaction deletions and additions. In this small example, we will perform a serial transfer experiment starting with a clonal *Escherichia coli* population, and simulate the random appearance of reaction deletion mutants. We will then visualize the dynamics of all genotypes in time.\n",
    "\n",
    "### Load the model\n",
    "We start by importing the necessary libraries and loading the *E. coli* model. "
   ]
  },
  {
   "cell_type": "code",
   "execution_count": 2,
   "metadata": {},
   "outputs": [
    {
     "name": "stdout",
     "output_type": "stream",
     "text": [
      "Using license file /home/djordje/gurobi.lic\n",
      "Academic license - for non-commercial use only\n"
     ]
    }
   ],
   "source": [
    "import sys\n",
    "sys.path.append(\"/home/djordje/Dropbox/projects/COMETS-Python-Toolbox/\")\n",
    "import comets as c\n",
    "import cobra.test\n",
    "import os\n",
    "import pandas as pd\n",
    "import matplotlib.pyplot as plt\n",
    "\n",
    "# load model \n",
    "wt = cobra.test.create_test_model(\"ecoli\")"
   ]
  },
  {
   "cell_type": "markdown",
   "metadata": {},
   "source": [
    "Remove the bounds for all exchange reactions in the model to allow them to be controlled dynamically by `COMETS` "
   ]
  },
  {
   "cell_type": "code",
   "execution_count": 3,
   "metadata": {},
   "outputs": [],
   "source": [
    "# Remove bounds from exchange reactions\n",
    "for i in wt.reactions:\n",
    "    if 'EX_' in i.id:\n",
    "        i.lower_bound =-1000.0"
   ]
  },
  {
   "cell_type": "markdown",
   "metadata": {},
   "source": [
    "### Set up the layout \n",
    "We create a well mixed environment with a glucose minimal media. Here, we use the custom `add_typical_trace_metabolites` method to add trace metabolites (ions, metals etc) in unlimited amounts (`static` flag)."
   ]
  },
  {
   "cell_type": "code",
   "execution_count": 4,
   "metadata": {},
   "outputs": [
    {
     "name": "stdout",
     "output_type": "stream",
     "text": [
      "building empty layout model\n",
      "models will need to be added with layout.add_model()\n",
      "Warning: The added metabolite (glc__D_e) is notable to be taken up by any of the current models\n"
     ]
    }
   ],
   "source": [
    "# generate layout\n",
    "test_tube = c.layout()\n",
    "test_tube.set_specific_metabolite('glc__D_e', 0.0001)\n",
    "test_tube.add_typical_trace_metabolites(amount=1000)\n",
    "\n",
    "# add model\n",
    "wt = c.model(wt)\n",
    "wt.initial_pop = [0, 0, 1e-7]\n",
    "test_tube.add_model(wt)"
   ]
  },
  {
   "cell_type": "markdown",
   "metadata": {},
   "source": [
    "### Set up simulation parameters\n",
    "Create a params object, and modify the needed parameters. The simulation in this example simulation consists of 10 days of experiment, with a 1:2 transfer every 3h. The mutation rate will be $10^{-7}$ deletion events per reaction and generation. The `cellSize` parameter sets the amount of biomass that appears when a mutant occurs (i.e., one mutant cell appears)."
   ]
  },
  {
   "cell_type": "code",
   "execution_count": 5,
   "metadata": {},
   "outputs": [],
   "source": [
    "# .. load parameters and layout from file\n",
    "evo_params = c.params()\n",
    "\n",
    "evo_params.all_params['timeStep'] = 0.1             # hours\n",
    "\n",
    "evo_params.all_params['maxCycles'] = 2400            # simulate 10 serial transfers of 24h each (timeStep = 0.1)\n",
    "evo_params.all_params['batchDilution'] = True\n",
    "evo_params.all_params['dilFactor'] = 0.5            # Dilution to apply\n",
    "evo_params.all_params['dilTime'] = 3                # hours\n",
    "\n",
    "evo_params.all_params['evolution'] = True\n",
    "evo_params.all_params['mutRate'] = 1e-8             # \n",
    "evo_params.all_params['cellSize'] = 1e-10           # cellSize should always be larger than maxSpaceBiomass\n",
    "evo_params.all_params['minSpaceBiomass'] = 1e-11    # make sure it is smaller than cell size!\n",
    "\n",
    "\n",
    "evo_params.all_params['BiomassLogRate'] = 1"
   ]
  },
  {
   "cell_type": "markdown",
   "metadata": {},
   "source": [
    "### Run the simulation\n",
    "We now create the COMETS object using the above layout and parameters, and run the simulation. "
   ]
  },
  {
   "cell_type": "code",
   "execution_count": 6,
   "metadata": {},
   "outputs": [
    {
     "name": "stdout",
     "output_type": "stream",
     "text": [
      "Warning: java class libraries cannot be found\n",
      "These are the expected locations for dependencies:\n",
      "Dependency \t\t\t expected path\n",
      "__________ \t\t\t _____________\n",
      "junit\t\t\t/home/djordje/Dropbox/COMETS_RUN/lib/junit/junit-4.12.jar\n",
      "hamcrest\t\t\t/home/djordje/Dropbox/COMETS_RUN/lib/junit/hamcrest-core-1.3.jar\n",
      "jogl_all\t\t\t/home/djordje/Dropbox/COMETS_RUN/lib/jogl/jogamp-all-platforms/jar/jogl-all.jar\n",
      "gluegen_rt\t\t\t/home/djordje/Dropbox/COMETS_RUN/lib/jogl/jogamp-all-platforms/jar/gluegen-rt.jar\n",
      "gluegen\t\t\t/home/djordje/Dropbox/COMETS_RUN/lib/jogl/jogamp-all-platforms/jar/gluegen.jar\n",
      "gluegen_rt_natives\t\t\t/home/djordje/Dropbox/COMETS_RUN/lib/jogl/jogamp-all-platforms/jar/gluegen-rt-natives-linux-amd64.jar\n",
      "jogl_all_natives\t\t\t/home/djordje/Dropbox/COMETS_RUN/lib/jogl/jogamp-all-platforms/jar/jogl-all-natives-linux-amd64.jar\n",
      "jmatio\t\t\t/home/djordje/Dropbox/COMETS_RUN/lib/JMatIO/lib/jamtio.jar\n",
      "jmat\t\t\t/home/djordje/Dropbox/COMETS_RUN/lib/JMatIO/JMatIO-041212/lib/jmatio.jar\n",
      "concurrent\t\t\t/home/djordje/Dropbox/COMETS_RUN/lib/colt/lib/concurrent.jar\n",
      "colt\t\t\t/home/djordje/Dropbox/COMETS_RUN/lib/colt/lib/colt.jar\n",
      "lang3\t\t\t/home/djordje/Dropbox/COMETS_RUN/lib/commons-lang3-3.7/commons-lang3-3.7.jar\n",
      "math3\t\t\t/home/djordje/Dropbox/COMETS_RUN/lib/commons-math3-3.6.1/commons-math3-3.6.1.jar\n",
      "\n",
      "  You have two options to fix this problem:\n",
      "1.  set each class path correctly by doing:\n",
      "    comets.set_classpath(libraryname, path)\n",
      "    e.g.   comets.set_classpath('hamcrest', '/home/chaco001/comets/junit/hamcrest-core-1.3.jar')\n",
      "\n",
      "    note that versions dont always have to exactly match, but you're on your own if they don't\n",
      "\n",
      "2.  fully define the classpath yourself by overwriting comets.JAVA_CLASSPATH\n",
      "       look at the current comets.JAVA_CLASSPATH to see how this should look.\n",
      "\n",
      "Running COMETS simulation ...\n",
      "-script\n",
      "running script file: /home/djordje/Dropbox/projects/comets_paper/Methods_Paper_Materials/COMETS_Examples/COMETS_example_Evolution/Python/.current_script\n",
      "Parsing error in parameter file:\n",
      "Unknown parameter specificmedialogname on line 6\n",
      "Parsing error in parameter file:\n",
      "Unknown parameter addrate on line 0\n",
      "Loading layout file '/home/djordje/Dropbox/projects/comets_paper/Methods_Paper_Materials/COMETS_Examples/COMETS_example_Evolution/Python/.current_layout'...\n",
      "Found 1 model files!\n",
      "Loading '/home/djordje/Dropbox/projects/comets_paper/Methods_Paper_Materials/COMETS_Examples/COMETS_example_Evolution/Python/iJO1366.cmd' ...\n",
      "Academic license - for non-commercial use only\n",
      "Academic license - for non-commercial use only\n",
      "\n",
      "Done!\n",
      " Testing default parameters...\n",
      "Done!\n",
      "Optimizer status code = 5 (looks ok!)\n",
      "objective solution = 105.65905426438195\n",
      "Constructing world...\n",
      "Media: [1.0E-4, 1000.0, 1000.0, 1000.0, 1000.0, 1000.0, 1000.0, 1000.0, 1000.0, 1000.0, 1000.0, 1000.0, 1000.0, 1000.0, 1000.0, 1000.0, 1000.0, 1000.0, 1000.0, 1000.0, 0.0, 0.0, 0.0, 0.0, 0.0, 0.0, 0.0, 0.0, 0.0, 0.0, 0.0, 0.0, 0.0, 0.0, 0.0, 0.0, 0.0, 0.0, 0.0, 0.0, 0.0, 0.0, 0.0, 0.0, 0.0, 0.0, 0.0, 0.0, 0.0, 0.0, 0.0, 0.0, 0.0, 0.0, 0.0, 0.0, 0.0, 0.0, 0.0, 0.0, 0.0, 0.0, 0.0, 0.0, 0.0, 0.0, 0.0, 0.0, 0.0, 0.0, 0.0, 0.0, 0.0, 0.0, 0.0, 0.0, 0.0, 0.0, 0.0, 0.0, 0.0, 0.0, 0.0, 0.0, 0.0, 0.0, 0.0, 0.0, 0.0, 0.0, 0.0, 0.0, 0.0, 0.0, 0.0, 0.0, 0.0, 0.0, 0.0, 0.0, 0.0, 0.0, 0.0, 0.0, 0.0, 0.0, 0.0, 0.0, 0.0, 0.0, 0.0, 0.0, 0.0, 0.0, 0.0, 0.0, 0.0, 0.0, 0.0, 0.0, 0.0, 0.0, 0.0, 0.0, 0.0, 0.0, 0.0, 0.0, 0.0, 0.0, 0.0, 0.0, 0.0, 0.0, 0.0, 0.0, 0.0, 0.0, 0.0, 0.0, 0.0, 0.0, 0.0, 0.0, 0.0, 0.0, 0.0, 0.0, 0.0, 0.0, 0.0, 0.0, 0.0, 0.0, 0.0, 0.0, 0.0, 0.0, 0.0, 0.0, 0.0, 0.0, 0.0, 0.0, 0.0, 0.0, 0.0, 0.0, 0.0, 0.0, 0.0, 0.0, 0.0, 0.0, 0.0, 0.0, 0.0, 0.0, 0.0, 0.0, 0.0, 0.0, 0.0, 0.0, 0.0, 0.0, 0.0, 0.0, 0.0, 0.0, 0.0, 0.0, 0.0, 0.0, 0.0, 0.0, 0.0, 0.0, 0.0, 0.0, 0.0, 0.0, 0.0, 0.0, 0.0, 0.0, 0.0, 0.0, 0.0, 0.0, 0.0, 0.0, 0.0, 0.0, 0.0, 0.0, 0.0, 0.0, 0.0, 0.0, 0.0, 0.0, 0.0, 0.0, 0.0, 0.0, 0.0, 0.0, 0.0, 0.0, 0.0, 0.0, 0.0, 0.0, 0.0, 0.0, 0.0, 0.0, 0.0, 0.0, 0.0, 0.0, 0.0, 0.0, 0.0, 0.0, 0.0, 0.0, 0.0, 0.0, 0.0, 0.0, 0.0, 0.0, 0.0, 0.0, 0.0, 0.0, 0.0, 0.0, 0.0, 0.0, 0.0, 0.0, 0.0, 0.0, 0.0, 0.0, 0.0, 0.0, 0.0, 0.0, 0.0, 0.0, 0.0, 0.0, 0.0, 0.0, 0.0, 0.0, 0.0, 0.0, 0.0, 0.0, 0.0, 0.0, 0.0, 0.0, 0.0, 0.0, 0.0, 0.0, 0.0, 0.0, 0.0, 0.0, 0.0, 0.0, 0.0, 0.0, 0.0, 0.0, 0.0, 0.0, 0.0, 0.0, 0.0, 0.0, 0.0, 0.0, 0.0, 0.0, 0.0, 0.0, 0.0, 0.0, 0.0, 0.0, 0.0, 0.0, 0.0, 0.0, 0.0, 0.0]\n",
      "Done!\n",
      "Error running script file: Unlimited cycle time selected - halting execution. Please set the maximum number of cycles in your parameters file to something reasonable. For example, something less than infinity.\n",
      " -- halting execution\n",
      "\n"
     ]
    }
   ],
   "source": [
    "# create comets object from the loaded parameters and layout \n",
    "evo_simulation = c.comets(test_tube, evo_params)\n",
    "evo_simulation.JAVA_CLASSPATH = '/home/djordje/Dropbox/COMETS_RUN/lib/jmatio.jar:/home/djordje/Dropbox/COMETS_RUN/lib/jdistlib-0.4.5-bin.jar:/home/djordje/Dropbox/COMETS_RUN/lib/commons-math3-3.6.1.jar:/home/djordje/Dropbox/COMETS_RUN/lib/commons-lang3-3.9.jar:/home/djordje/Dropbox/COMETS_RUN/lib/colt.jar:/home/djordje/Dropbox/COMETS_RUN/lib/concurrent.jar:/home/djordje/Dropbox/COMETS_RUN/bin/comets_2.9.3.jar:/opt/gurobi901/linux64/lib/gurobi.jar'\n",
    "\n",
    "# run comets simulation\n",
    "evo_simulation.run()"
   ]
  },
  {
   "cell_type": "markdown",
   "metadata": {},
   "source": [
    "### Visualize the results \n",
    "We can visualize the population dynamics of all species over time (color coded) using standard Python plotting tools."
   ]
  },
  {
   "cell_type": "code",
   "execution_count": null,
   "metadata": {},
   "outputs": [],
   "source": [
    "fig, ax = plt.subplots(figsize=(15, 5))\n",
    "\n",
    "for key, grp in evo_simulation.biomass.groupby(['species']):\n",
    "    ax = grp.plot(ax=ax, kind='line', x='cycle', y='biomass')\n",
    "ax.get_legend().remove()\n",
    "plt.yscale('log')\n",
    "plt.ylabel(\"Biomass (gr.)\")"
   ]
  },
  {
   "cell_type": "markdown",
   "metadata": {},
   "source": [
    "In order to analyze the results, it is also helpful to visualize the genotypes data frame, which contains all the mutants that ever appeared during the simulation. The data frame contains three columns: The ancestor, the mutation, and the name of the resulting genotype, which is assigned as a random hash."
   ]
  },
  {
   "cell_type": "code",
   "execution_count": null,
   "metadata": {},
   "outputs": [],
   "source": [
    "evo_simulation.genotypes"
   ]
  }
 ],
 "metadata": {
  "kernelspec": {
   "display_name": "Python 3",
   "language": "python",
   "name": "python3"
  },
  "language_info": {
   "codemirror_mode": {
    "name": "ipython",
    "version": 3
   },
   "file_extension": ".py",
   "mimetype": "text/x-python",
   "name": "python",
   "nbconvert_exporter": "python",
   "pygments_lexer": "ipython3",
   "version": "3.6.9"
  }
 },
 "nbformat": 4,
 "nbformat_minor": 2
}
