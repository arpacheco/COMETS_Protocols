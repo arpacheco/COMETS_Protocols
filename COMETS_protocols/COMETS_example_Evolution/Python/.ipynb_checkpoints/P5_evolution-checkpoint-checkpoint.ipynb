{
 "cells": [
  {
   "cell_type": "markdown",
   "metadata": {},
   "source": [
    "## Simulating evolution with COMETS\n",
    "\n",
    "`COMETS` is able to perform simulations that include the appearance of mutants containing reaction deletions and additions. In this small example, we will perform a serial transfer experiment starting with a clonal *Escherichia coli* population, and simulate the random appearance of reaction deletion mutants. We will then visualize the dynamics of all genotypes in time.\n",
    "\n",
    "### Load the model\n",
    "We start by importing the necessary libraries and loading the *E. coli* model. "
   ]
  },
  {
   "cell_type": "code",
   "execution_count": 1,
   "metadata": {},
   "outputs": [],
   "source": [
    "import cometspy as c\n",
    "import cobra.test\n",
    "import os\n",
    "import pandas as pd\n",
    "import matplotlib.pyplot as plt\n",
    "\n",
    "# load model \n",
    "wt = cobra.test.create_test_model(\"ecoli\")"
   ]
  },
  {
   "cell_type": "markdown",
   "metadata": {},
   "source": [
    "Remove the bounds for all exchange reactions in the model to allow them to be controlled dynamically by `COMETS` "
   ]
  },
  {
   "cell_type": "code",
   "execution_count": 2,
   "metadata": {},
   "outputs": [],
   "source": [
    "# Remove bounds from exchange reactions\n",
    "for i in wt.reactions:\n",
    "    if 'EX_' in i.id:\n",
    "        i.lower_bound =-1000.0"
   ]
  },
  {
   "cell_type": "markdown",
   "metadata": {},
   "source": [
    "### Set up the layout \n",
    "We create a well mixed environment with a glucose minimal media. Here, we use the custom `add_typical_trace_metabolites` method to add trace metabolites (ions, metals etc) in unlimited amounts (`static` flag)."
   ]
  },
  {
   "cell_type": "code",
   "execution_count": 3,
   "metadata": {},
   "outputs": [
    {
     "name": "stdout",
     "output_type": "stream",
     "text": [
      "building empty layout model\n",
      "models will need to be added with layout.add_model()\n",
      "Warning: The added metabolite (glc__D_e) is notable to be taken up by any of the current models\n"
     ]
    }
   ],
   "source": [
    "# generate layout\n",
    "test_tube = c.layout()\n",
    "test_tube.set_specific_metabolite('glc__D_e', 0.0001)\n",
    "test_tube.add_typical_trace_metabolites(amount=1000)\n",
    "\n",
    "# add model\n",
    "wt = c.model(wt)\n",
    "wt.initial_pop = [0, 0, 1e-7]\n",
    "test_tube.add_model(wt)"
   ]
  },
  {
   "cell_type": "markdown",
   "metadata": {},
   "source": [
    "### Set up simulation parameters\n",
    "Create a params object, and modify the needed parameters. The simulation in this example simulation consists of 10 days of experiment, with a 1:2 transfer every 3h. The mutation rate will be $10^{-7}$ deletion events per reaction and generation. The `cellSize` parameter sets the amount of biomass that appears when a mutant occurs (i.e., one mutant cell appears)."
   ]
  },
  {
   "cell_type": "code",
   "execution_count": 4,
   "metadata": {},
   "outputs": [],
   "source": [
    "# .. load parameters and layout from file\n",
    "evo_params = c.params()\n",
    "\n",
    "evo_params.all_params['timeStep'] = 0.1             # hours\n",
    "\n",
    "evo_params.all_params['maxCycles'] = 2400            # simulate 10 serial transfers of 24h each (timeStep = 0.1)\n",
    "evo_params.all_params['batchDilution'] = True\n",
    "evo_params.all_params['dilFactor'] = 0.5            # Dilution to apply\n",
    "evo_params.all_params['dilTime'] = 3                # hours\n",
    "\n",
    "evo_params.all_params['evolution'] = True\n",
    "evo_params.all_params['mutRate'] = 1e-8             # \n",
    "evo_params.all_params['cellSize'] = 1e-10           # cellSize should always be larger than minSpaceBiomass\n",
    "evo_params.all_params['minSpaceBiomass'] = 1e-11    # make sure it is smaller than cell size!\n",
    "\n",
    "\n",
    "evo_params.all_params['BiomassLogRate'] = 1"
   ]
  },
  {
   "cell_type": "markdown",
   "metadata": {},
   "source": [
    "### Run the simulation\n",
    "We now create the COMETS object using the above layout and parameters, and run the simulation. "
   ]
  },
  {
   "cell_type": "code",
   "execution_count": 5,
   "metadata": {},
   "outputs": [
    {
     "name": "stdout",
     "output_type": "stream",
     "text": [
      "\n",
      "Running COMETS simulation ...\n",
      "Done!\n"
     ]
    }
   ],
   "source": [
    "# create comets object from the loaded parameters and layout \n",
    "evo_simulation = c.comets(test_tube, evo_params)\n",
    "\n",
    "# run comets simulation\n",
    "evo_simulation.run()"
   ]
  },
  {
   "cell_type": "markdown",
   "metadata": {},
   "source": [
    "### Visualize the results \n",
    "We can visualize the population dynamics of all species over time (color coded) using standard Python plotting tools."
   ]
  },
  {
   "cell_type": "code",
   "execution_count": 6,
   "metadata": {},
   "outputs": [
    {
     "data": {
      "text/plain": [
       "Text(0, 0.5, 'Biomass (gr.)')"
      ]
     },
     "execution_count": 6,
     "metadata": {},
     "output_type": "execute_result"
    },
    {
     "data": {
      "image/png": "[encoded data removed]",
      "text/plain": [
       "<Figure size 1080x360 with 1 Axes>"
      ]
     },
     "metadata": {
      "needs_background": "light"
     },
     "output_type": "display_data"
    }
   ],
   "source": [
    "fig, ax = plt.subplots(figsize=(15, 5))\n",
    "\n",
    "for key, grp in evo_simulation.biomass.groupby(['species']):\n",
    "    ax = grp.plot(ax=ax, kind='line', x='cycle', y='biomass')\n",
    "ax.get_legend().remove()\n",
    "plt.yscale('log')\n",
    "plt.ylabel(\"Biomass (gr.)\")"
   ]
  },
  {
   "cell_type": "markdown",
   "metadata": {},
   "source": [
    "In order to analyze the results, it is also helpful to visualize the genotypes data frame, which contains all the mutants that ever appeared during the simulation. The data frame contains three columns: The ancestor, the mutation, and the name of the resulting genotype, which is assigned as a random hash."
   ]
  },
  {
   "cell_type": "code",
   "execution_count": 7,
   "metadata": {},
   "outputs": [
    {
     "data": {
      "text/html": [
       "<div>\n",
       "<style scoped>\n",
       "    .dataframe tbody tr th:only-of-type {\n",
       "        vertical-align: middle;\n",
       "    }\n",
       "\n",
       "    .dataframe tbody tr th {\n",
       "        vertical-align: top;\n",
       "    }\n",
       "\n",
       "    .dataframe thead th {\n",
       "        text-align: right;\n",
       "    }\n",
       "</style>\n",
       "<table border=\"1\" class=\"dataframe\">\n",
       "  <thead>\n",
       "    <tr style=\"text-align: right;\">\n",
       "      <th></th>\n",
       "      <th>Ancestor</th>\n",
       "      <th>Mutation</th>\n",
       "      <th>Species</th>\n",
       "    </tr>\n",
       "  </thead>\n",
       "  <tbody>\n",
       "    <tr>\n",
       "      <th>0</th>\n",
       "      <td>NO_ANCESTOR</td>\n",
       "      <td>NO_MUT</td>\n",
       "      <td>iJO1366.cmd</td>\n",
       "    </tr>\n",
       "  </tbody>\n",
       "</table>\n",
       "</div>"
      ],
      "text/plain": [
       "      Ancestor Mutation      Species\n",
       "0  NO_ANCESTOR   NO_MUT  iJO1366.cmd"
      ]
     },
     "execution_count": 7,
     "metadata": {},
     "output_type": "execute_result"
    }
   ],
   "source": [
    "evo_simulation.genotypes"
   ]
  },
  {
   "cell_type": "code",
   "execution_count": null,
   "metadata": {},
   "outputs": [],
   "source": []
  }
 ],
 "metadata": {
  "kernelspec": {
   "display_name": "Python 3",
   "language": "python",
   "name": "python3"
  },
  "language_info": {
   "codemirror_mode": {
    "name": "ipython",
    "version": 3
   },
   "file_extension": ".py",
   "mimetype": "text/x-python",
   "name": "python",
   "nbconvert_exporter": "python",
   "pygments_lexer": "ipython3",
   "version": "3.8.3"
  }
 },
 "nbformat": 4,
 "nbformat_minor": 2
}
